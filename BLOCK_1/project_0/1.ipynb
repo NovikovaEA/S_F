{
 "cells": [
  {
   "cell_type": "code",
   "execution_count": 2,
   "metadata": {},
   "outputs": [],
   "source": [
    "import numpy as np\n"
   ]
  },
  {
   "cell_type": "code",
   "execution_count": 5,
   "metadata": {},
   "outputs": [
    {
     "data": {
      "text/plain": [
       "{'Tom': 12, 'Jerry': 1, 'Jane': 2}"
      ]
     },
     "execution_count": 5,
     "metadata": {},
     "output_type": "execute_result"
    }
   ],
   "source": [
    "d=dict(Tom=12, Jerry=1, Jane=2)\n",
    "d\n"
   ]
  },
  {
   "cell_type": "code",
   "execution_count": 18,
   "metadata": {},
   "outputs": [
    {
     "data": {
      "text/plain": [
       "['Jane', 'Jerry', 'Tom']"
      ]
     },
     "execution_count": 18,
     "metadata": {},
     "output_type": "execute_result"
    }
   ],
   "source": [
    "\n",
    "sorted(d)\n"
   ]
  },
  {
   "cell_type": "code",
   "execution_count": 19,
   "metadata": {},
   "outputs": [
    {
     "data": {
      "text/plain": [
       "[('Tom', 12), ('Jerry', 1), ('Jane', 2)]"
      ]
     },
     "execution_count": 19,
     "metadata": {},
     "output_type": "execute_result"
    }
   ],
   "source": [
    "list(d.items())\n"
   ]
  },
  {
   "cell_type": "code",
   "execution_count": 20,
   "metadata": {},
   "outputs": [
    {
     "ename": "SyntaxError",
     "evalue": "unmatched ')' (1254102151.py, line 1)",
     "output_type": "error",
     "traceback": [
      "\u001b[0;36m  Cell \u001b[0;32mIn[20], line 1\u001b[0;36m\u001b[0m\n\u001b[0;31m    sorted(d.items(), key=lambda x:x[1])[0])\u001b[0m\n\u001b[0m                                           ^\u001b[0m\n\u001b[0;31mSyntaxError\u001b[0m\u001b[0;31m:\u001b[0m unmatched ')'\n"
     ]
    }
   ],
   "source": [
    "sorted(d.items(), key=lambda x:x[1])[0])\n"
   ]
  },
  {
   "cell_type": "code",
   "execution_count": null,
   "metadata": {},
   "outputs": [
    {
     "data": {
      "text/plain": [
       "['Acc', 'abc']"
      ]
     },
     "execution_count": 4,
     "metadata": {},
     "output_type": "execute_result"
    }
   ],
   "source": [
    "l=['Acc', 'abc']\n",
    "l.sort()\n",
    "# ['abc', 'Acc']\n",
    "l\n"
   ]
  },
  {
   "cell_type": "code",
   "execution_count": null,
   "metadata": {},
   "outputs": [
    {
     "name": "stdout",
     "output_type": "stream",
     "text": [
      "3\n"
     ]
    },
    {
     "ename": "ValueError",
     "evalue": "Too many arguments",
     "output_type": "error",
     "traceback": [
      "\u001b[0;31m---------------------------------------------------------------------------\u001b[0m",
      "\u001b[0;31mValueError\u001b[0m                                Traceback (most recent call last)",
      "Input \u001b[0;32mIn [37]\u001b[0m, in \u001b[0;36m<cell line: 14>\u001b[0;34m()\u001b[0m\n\u001b[1;32m     10\u001b[0m         \u001b[38;5;28mprint\u001b[39m(\u001b[38;5;124m'\u001b[39m\u001b[38;5;124mq\u001b[39m\u001b[38;5;124m'\u001b[39m)\n\u001b[1;32m     11\u001b[0m         \u001b[38;5;28;01mreturn\u001b[39;00m \u001b[38;5;124m'\u001b[39m\u001b[38;5;124m'\u001b[39m  \n\u001b[0;32m---> 14\u001b[0m \u001b[38;5;28mprint\u001b[39m(\u001b[43mexchange\u001b[49m\u001b[43m(\u001b[49m\u001b[43mrub\u001b[49m\u001b[38;5;241;43m=\u001b[39;49m\u001b[38;5;241;43m1000\u001b[39;49m\u001b[43m,\u001b[49m\u001b[43m \u001b[49m\u001b[43mrate\u001b[49m\u001b[38;5;241;43m=\u001b[39;49m\u001b[38;5;241;43m85\u001b[39;49m\u001b[43m,\u001b[49m\u001b[43m \u001b[49m\u001b[43musd\u001b[49m\u001b[38;5;241;43m=\u001b[39;49m\u001b[38;5;241;43m90\u001b[39;49m\u001b[43m)\u001b[49m)\n",
      "Input \u001b[0;32mIn [37]\u001b[0m, in \u001b[0;36mexchange\u001b[0;34m(**d)\u001b[0m\n\u001b[1;32m      6\u001b[0m     \u001b[38;5;66;03m#raise ValueError('Not enough arguments')\u001b[39;00m\n\u001b[1;32m      7\u001b[0m     \u001b[38;5;66;03m#return\u001b[39;00m\n\u001b[1;32m      8\u001b[0m \u001b[38;5;28;01mif\u001b[39;00m \u001b[38;5;28mlen\u001b[39m(d)\u001b[38;5;241m==\u001b[39m\u001b[38;5;241m3\u001b[39m:\n\u001b[0;32m----> 9\u001b[0m     \u001b[38;5;28;01mraise\u001b[39;00m \u001b[38;5;167;01mValueError\u001b[39;00m(\u001b[38;5;124m'\u001b[39m\u001b[38;5;124mToo many arguments\u001b[39m\u001b[38;5;124m'\u001b[39m)\n\u001b[1;32m     10\u001b[0m     \u001b[38;5;28mprint\u001b[39m(\u001b[38;5;124m'\u001b[39m\u001b[38;5;124mq\u001b[39m\u001b[38;5;124m'\u001b[39m)\n\u001b[1;32m     11\u001b[0m     \u001b[38;5;28;01mreturn\u001b[39;00m \u001b[38;5;124m'\u001b[39m\u001b[38;5;124m'\u001b[39m\n",
      "\u001b[0;31mValueError\u001b[0m: Too many arguments"
     ]
    }
   ],
   "source": [
    "def exchange(**d):\n",
    "    #pass\n",
    "    print(len(d))\n",
    "    if len(d)<=2:\n",
    "        print('1')\n",
    "        #raise ValueError('Not enough arguments')\n",
    "        #return\n",
    "    if len(d)==3:\n",
    "        raise ValueError('Too many arguments')\n",
    "        print('q')\n",
    "        return ''  \n",
    "   \n",
    "\n",
    "print(exchange(rub=1000, rate=85, usd=90))     \n",
    "    \n",
    "\n"
   ]
  },
  {
   "cell_type": "code",
   "execution_count": null,
   "metadata": {},
   "outputs": [
    {
     "ename": "ValueError",
     "evalue": "Not enough arguments",
     "output_type": "error",
     "traceback": [
      "\u001b[0;31m---------------------------------------------------------------------------\u001b[0m",
      "\u001b[0;31mValueError\u001b[0m                                Traceback (most recent call last)",
      "Input \u001b[0;32mIn [40]\u001b[0m, in \u001b[0;36m<cell line: 15>\u001b[0;34m()\u001b[0m\n\u001b[1;32m     12\u001b[0m             \u001b[38;5;28;01mreturn\u001b[39;00m rub\u001b[38;5;241m/\u001b[39mrate\n\u001b[1;32m     13\u001b[0m     \u001b[38;5;28;01mraise\u001b[39;00m not_enough_error\n\u001b[0;32m---> 15\u001b[0m \u001b[38;5;28mprint\u001b[39m(\u001b[43mexchange\u001b[49m\u001b[43m(\u001b[49m\u001b[43mrub\u001b[49m\u001b[38;5;241;43m=\u001b[39;49m\u001b[38;5;241;43m1000\u001b[39;49m\u001b[43m)\u001b[49m)\n",
      "Input \u001b[0;32mIn [40]\u001b[0m, in \u001b[0;36mexchange\u001b[0;34m(usd, rub, rate)\u001b[0m\n\u001b[1;32m     11\u001b[0m     \u001b[38;5;28;01mif\u001b[39;00m rate \u001b[38;5;129;01mis\u001b[39;00m \u001b[38;5;129;01mnot\u001b[39;00m \u001b[38;5;28;01mNone\u001b[39;00m:\n\u001b[1;32m     12\u001b[0m         \u001b[38;5;28;01mreturn\u001b[39;00m rub\u001b[38;5;241m/\u001b[39mrate\n\u001b[0;32m---> 13\u001b[0m \u001b[38;5;28;01mraise\u001b[39;00m not_enough_error\n",
      "\u001b[0;31mValueError\u001b[0m: Not enough arguments"
     ]
    }
   ],
   "source": [
    "def exchange(usd=None, rub=None, rate=None):\n",
    "    if (usd is not None) and (rub is not None) and (rate is not None):\n",
    "        raise ValueError('Too many arguments')\n",
    "    not_enough_error = ValueError('Not enough arguments')\n",
    "    if usd is not None:\n",
    "        if rub is not None:\n",
    "            return rub/usd\n",
    "        if rate is not None:\n",
    "            return usd * rate\n",
    "    if rub is not None:\n",
    "        if rate is not None:\n",
    "            return rub/rate\n",
    "    raise not_enough_error\n",
    "\n",
    "print(exchange(rub=1000))\n"
   ]
  },
  {
   "cell_type": "code",
   "execution_count": null,
   "metadata": {},
   "outputs": [
    {
     "data": {
      "text/plain": [
       "2"
      ]
     },
     "execution_count": 47,
     "metadata": {},
     "output_type": "execute_result"
    }
   ],
   "source": [
    "s='Q nq'\n",
    "s=s.lower()\n",
    "s=s.replace(' ', '')\n",
    "len(set(s))\n"
   ]
  },
  {
   "cell_type": "code",
   "execution_count": null,
   "metadata": {},
   "outputs": [
    {
     "name": "stdout",
     "output_type": "stream",
     "text": [
      "['ArithmeticError', 'AssertionError', 'AttributeError', 'BaseException', 'BlockingIOError', 'BrokenPipeError', 'BufferError', 'BytesWarning', 'ChildProcessError', 'ConnectionAbortedError', 'ConnectionError', 'ConnectionRefusedError', 'ConnectionResetError', 'DeprecationWarning', 'EOFError', 'Ellipsis', 'EnvironmentError', 'Exception', 'False', 'FileExistsError', 'FileNotFoundError', 'FloatingPointError', 'FutureWarning', 'GeneratorExit', 'IOError', 'ImportError', 'ImportWarning', 'IndentationError', 'IndexError', 'InterruptedError', 'IsADirectoryError', 'KeyError', 'KeyboardInterrupt', 'LookupError', 'MemoryError', 'ModuleNotFoundError', 'NameError', 'None', 'NotADirectoryError', 'NotImplemented', 'NotImplementedError', 'OSError', 'OverflowError', 'PendingDeprecationWarning', 'PermissionError', 'ProcessLookupError', 'RecursionError', 'ReferenceError', 'ResourceWarning', 'RuntimeError', 'RuntimeWarning', 'StopAsyncIteration', 'StopIteration', 'SyntaxError', 'SyntaxWarning', 'SystemError', 'SystemExit', 'TabError', 'TimeoutError', 'True', 'TypeError', 'UnboundLocalError', 'UnicodeDecodeError', 'UnicodeEncodeError', 'UnicodeError', 'UnicodeTranslateError', 'UnicodeWarning', 'UserWarning', 'ValueError', 'Warning', 'ZeroDivisionError', '__IPYTHON__', '__build_class__', '__debug__', '__doc__', '__import__', '__loader__', '__name__', '__package__', '__spec__', 'abs', 'all', 'any', 'ascii', 'bin', 'bool', 'breakpoint', 'bytearray', 'bytes', 'callable', 'chr', 'classmethod', 'compile', 'complex', 'copyright', 'credits', 'delattr', 'dict', 'dir', 'display', 'divmod', 'enumerate', 'eval', 'exec', 'execfile', 'filter', 'float', 'format', 'frozenset', 'get_ipython', 'getattr', 'globals', 'hasattr', 'hash', 'help', 'hex', 'id', 'input', 'int', 'isinstance', 'issubclass', 'iter', 'len', 'license', 'list', 'locals', 'map', 'max', 'memoryview', 'min', 'next', 'object', 'oct', 'open', 'ord', 'pow', 'print', 'property', 'range', 'repr', 'reversed', 'round', 'runfile', 'set', 'setattr', 'slice', 'sorted', 'staticmethod', 'str', 'sum', 'super', 'tuple', 'type', 'vars', 'zip']\n"
     ]
    }
   ],
   "source": [
    "print(dir(__builtins__))\n"
   ]
  },
  {
   "cell_type": "code",
   "execution_count": null,
   "metadata": {},
   "outputs": [],
   "source": [
    "def sides(p1, p2, p3):\n",
    "    # Распаковываем кортежи для удобства\n",
    "    x1, y1 = p1\n",
    "    x2, y2 = p2\n",
    "    x3, y3 = p3\n",
    "    # Вычисляем стороны по теореме Пифагора\n",
    "    a = ((x2 - x1) ** 2 + (y2 - y1)** 2) ** 0.5\n",
    "    b = ((x3 - x1) ** 2 + (y3 - y1)** 2) ** 0.5\n",
    "    c = ((x3 - x2) ** 2 + (y3 - y2)** 2) ** 0.5\n",
    "    return a, b, c\n"
   ]
  },
  {
   "cell_type": "code",
   "execution_count": null,
   "metadata": {},
   "outputs": [
    {
     "name": "stdout",
     "output_type": "stream",
     "text": [
      "(2.1360009363293826, 2.692582403567252, 4.422951503238533)\n",
      "(3.0, 4.0, 5.0)\n"
     ]
    }
   ],
   "source": [
    "print(sides((2, 2), (4, 1.25), (1, 4.5)))\n",
    "## (2.1360009363293826, 2.692582403567252, 4.422951503238533)\n",
    "print(sides(p1=(1, 1), p2=(1, 4), p3=(5, 1)))\n",
    "## (3.0, 4.0, 5.0)\n"
   ]
  },
  {
   "cell_type": "code",
   "execution_count": null,
   "metadata": {},
   "outputs": [
    {
     "data": {
      "text/plain": [
       "True"
      ]
     },
     "execution_count": 52,
     "metadata": {},
     "output_type": "execute_result"
    }
   ],
   "source": [
    "1 in (1,2,3)\n"
   ]
  },
  {
   "cell_type": "code",
   "execution_count": null,
   "metadata": {},
   "outputs": [
    {
     "data": {
      "text/plain": [
       "[(1, 'abc'), (2, 'def')]"
      ]
     },
     "execution_count": 55,
     "metadata": {},
     "output_type": "execute_result"
    }
   ],
   "source": [
    "d={1:'abc', 2:'def'}\n",
    "list(d.items())\n"
   ]
  },
  {
   "cell_type": "code",
   "execution_count": null,
   "metadata": {},
   "outputs": [
    {
     "name": "stdout",
     "output_type": "stream",
     "text": [
      "[1, 2]\n"
     ]
    }
   ],
   "source": [
    "print(list(d))\n"
   ]
  },
  {
   "cell_type": "code",
   "execution_count": null,
   "metadata": {},
   "outputs": [
    {
     "data": {
      "text/plain": [
       "'fed cba'"
      ]
     },
     "execution_count": 63,
     "metadata": {},
     "output_type": "execute_result"
    }
   ],
   "source": [
    "x='abc def'\n",
    "x[::-1]\n"
   ]
  },
  {
   "cell_type": "code",
   "execution_count": null,
   "metadata": {},
   "outputs": [
    {
     "data": {
      "text/plain": [
       "['рвал дед лавр', 'палиндром', 'казак', 'шалаш']"
      ]
     },
     "execution_count": 65,
     "metadata": {},
     "output_type": "execute_result"
    }
   ],
   "source": [
    "str_list = ['шалаш', 'казак', 'палиндром', 'рвал дед лавр']\n",
    "str_list[::-1]\n"
   ]
  },
  {
   "cell_type": "code",
   "execution_count": null,
   "metadata": {},
   "outputs": [
    {
     "name": "stdout",
     "output_type": "stream",
     "text": [
      "[25683, 17683, 28973]\n"
     ]
    }
   ],
   "source": [
    "prices = [34562, 66572, 25683, 17683, 56389, 28973]\n",
    "## filtered_prices = [25683, 17683, 28973]\n",
    "\n",
    "filtered_prices=list(filter((lambda x: x<=30000), prices))\n",
    "print(filtered_prices)\n"
   ]
  },
  {
   "cell_type": "code",
   "execution_count": null,
   "metadata": {},
   "outputs": [
    {
     "name": "stdout",
     "output_type": "stream",
     "text": [
      "[(0.00632, 6.575, 65.2, 296.0, 4.98, 1), (0.02731, 6.421, 78.9, 242.0, 9.14, 1), (0.02729, 7.185, 61.1, 242.0, 4.03, 1), (0.03237, 6.998, 45.8, 222.0, 2.94, 1), (0.06905, 7.147, 54.2, 222.0, 5.33, 1), (0.02985, 6.43, 58.7, 222.0, 5.21, 1), (0.08829, 6.012, 66.6, 311.0, 12.43, 1)]\n"
     ]
    }
   ],
   "source": [
    "data = [(0.00632, 6.575, 65.2, 296.0, 4.98),\n",
    " (0.02731, 6.421, 78.9, 242.0, 9.14),\n",
    " (0.02729, 7.185, 61.1, 242.0, 4.03),\n",
    " (0.03237, 6.998, 45.8, 222.0, 2.94),\n",
    " (0.06905, 7.147, 54.2, 222.0, 5.33),\n",
    " (0.02985, 6.43, 58.7, 222.0, 5.21),\n",
    " (0.08829, 6.012, 66.6, 311.0, 12.43)]\n",
    "\n",
    "filtered_data=map(lambda x: (*x, 1), data)\n",
    "print(list(filtered_data))\n"
   ]
  },
  {
   "cell_type": "code",
   "execution_count": null,
   "metadata": {},
   "outputs": [
    {
     "name": "stdout",
     "output_type": "stream",
     "text": [
      "data/images/train/10394\n",
      "data/images/train/10394\n",
      "10394\n"
     ]
    }
   ],
   "source": [
    "file_path = 'data/images/train/10394.jpg'\n",
    "l= file_path.split('.')\n",
    "file_extension=l[-1]\n",
    "print(str(*l[:-1]))\n",
    "l=str(*l[:-1])\n",
    "print(l)\n",
    "file_name=l.split('/')[-1]\n",
    "print(file_name)\n"
   ]
  },
  {
   "cell_type": "code",
   "execution_count": null,
   "metadata": {},
   "outputs": [
    {
     "name": "stdout",
     "output_type": "stream",
     "text": [
      "['скажи', 'что-нибудь', 'попросила', 'она', 'и', 'он', 'поднял', 'на', 'нее', 'глаза']\n",
      "<class 'list'>\n",
      "скажи что-нибудь попросила она и он поднял на нее глаза\n"
     ]
    }
   ],
   "source": [
    "generated_text = \"глаза нее на поднял он и она попросила что-нибудь скажи\"\n",
    "## updated_text = \"скажи что-нибудь попросила она и он поднял на нее глаза\"\n",
    "generated_text = \"глаза нее на поднял он и она попросила что-нибудь скажи\"\n",
    "## updated_text = \"скажи что-нибудь попросила она и он поднял на нее глаза\"\n",
    "\n",
    "q=generated_text.split()[::-1]\n",
    "print(q)\n",
    "print(type(q))\n",
    "updated_text=\" \".join(q)\n",
    "print(updated_text)\n"
   ]
  },
  {
   "cell_type": "code",
   "execution_count": null,
   "metadata": {},
   "outputs": [
    {
     "data": {
      "text/plain": [
       "\"['1']\""
      ]
     },
     "execution_count": 97,
     "metadata": {},
     "output_type": "execute_result"
    }
   ],
   "source": [
    "str(['1','2']])\n"
   ]
  },
  {
   "cell_type": "code",
   "execution_count": null,
   "metadata": {},
   "outputs": [
    {
     "data": {
      "text/plain": [
       "'выхухоль'"
      ]
     },
     "execution_count": 99,
     "metadata": {},
     "output_type": "execute_result"
    }
   ],
   "source": [
    "l = ['крот', 'белка', 'выхухоль']\n",
    "m =max(l, key=lambda x: len(x))\n",
    "m\n"
   ]
  },
  {
   "cell_type": "code",
   "execution_count": null,
   "metadata": {},
   "outputs": [
    {
     "data": {
      "text/plain": [
       "False"
      ]
     },
     "execution_count": 100,
     "metadata": {},
     "output_type": "execute_result"
    }
   ],
   "source": [
    "l=[]\n",
    "l is None\n"
   ]
  },
  {
   "cell_type": "code",
   "execution_count": null,
   "metadata": {},
   "outputs": [],
   "source": [
    "n1, n2=0,0\n"
   ]
  },
  {
   "cell_type": "code",
   "execution_count": null,
   "metadata": {},
   "outputs": [
    {
     "name": "stdout",
     "output_type": "stream",
     "text": [
      "1\n",
      "2\n",
      "3\n"
     ]
    }
   ],
   "source": [
    "for i in '123':\n",
    "    print(i)\n"
   ]
  },
  {
   "cell_type": "code",
   "execution_count": null,
   "metadata": {},
   "outputs": [
    {
     "data": {
      "text/plain": [
       "6"
      ]
     },
     "execution_count": 104,
     "metadata": {},
     "output_type": "execute_result"
    }
   ],
   "source": [
    "sum([1,2,3])\n"
   ]
  },
  {
   "cell_type": "code",
   "execution_count": null,
   "metadata": {},
   "outputs": [
    {
     "name": "stdout",
     "output_type": "stream",
     "text": [
      "a\n",
      "b\n"
     ]
    }
   ],
   "source": [
    "d={'1':'a', '2':'b'}\n",
    "for i in d:\n",
    "    print(d[i])\n"
   ]
  },
  {
   "cell_type": "code",
   "execution_count": null,
   "metadata": {},
   "outputs": [
    {
     "data": {
      "text/plain": [
       "['1', '2']"
      ]
     },
     "execution_count": 116,
     "metadata": {},
     "output_type": "execute_result"
    }
   ],
   "source": [
    "l=list(d.keys())\n",
    "l.sort()\n",
    "l\n"
   ]
  },
  {
   "cell_type": "code",
   "execution_count": null,
   "metadata": {},
   "outputs": [
    {
     "name": "stdout",
     "output_type": "stream",
     "text": [
      "<class 'list'>\n",
      "['a', 'beginning', 'for', 'taking', 'delicate', 'balances', 'are', 'correct', 'this', 'every', 'sister', 'bene', 'gesserit', 'knows', 'to', 'begin', 'your', 'study', 'life', 'then', 'him', '57th', 'year', 'padishah', 'emperor', 'shaddam', 'iv', 'special', 'locate', 'do', 'not', 'be', 'deceived', 'by', 'fact', 'he', 'was', 'on', 'caladan', 'lived', 'fifteen', 'years', 'there', 'known', 'as', 'dune', 'forever', 'is', 'time', 'most', \"muad'dib\", 'take', 'you', 'first', 'time', 'born', 'and', 'take', 'most', 'you', \"muad'dib\", 'planet', 'arrakis', 'born', 'and', 'first', 'arrakis', 'planet', 'is', 'care', 'care', 'place', 'in', 'in', 'care', 'in', 'place', 'place', 'that', 'of', 'of', 'of', 'that', 'his', 'of', 'that', 'his', 'that', 'his', 'his', 'the', 'the', 'the', 'the', 'the', 'the', 'the', 'the', 'the', 'the', 'the']\n",
      "a\n"
     ]
    }
   ],
   "source": [
    "# и\n",
    "def get_most_frequent_word(text):\n",
    "    def get_words_list(text):\n",
    "    # Создаём список со знаками пунктуации\n",
    "        punctuation_list = ['.', ',', ';', ':', '...', '!', '?', '-', '\"', '(', ')']\n",
    "    # Создаём цикл по элементам списка\n",
    "        for symbol in punctuation_list:\n",
    "        # Заменяем текущий знак пунктуации в тексте на пустую строку\n",
    "            text = text.replace(symbol, \"\")\n",
    "    # Приводим текст к нижнему регистру\n",
    "        text = text.lower()\n",
    "    # Разделяем его на слова по пробелу\n",
    "        words_list = text.split(' ')\n",
    "    # Возвращаем результат\n",
    "        return words_list\n",
    "    tl=get_words_list(text)\n",
    "    tl1=tl.copy()\n",
    "    print(type(tl))\n",
    "    tl.sort(key=lambda x: tl1.count(x))\n",
    "    print(tl)\n",
    "    return tl[0]\n",
    "\n",
    "text_example = \"A beginning is the time for taking the most delicate care that the balances are correct. This every sister of the Bene Gesserit knows. To begin your study of the life of Muad'Dib, then take care that you first place him in his time: born in the 57th year of the Padishah Emperor, Shaddam IV. And take the most special care that you locate Muad'Dib in his place: the planet Arrakis. Do not be deceived by the fact that he was born on Caladan and lived his first fifteen years there. Arrakis, the planet known as Dune, is forever his place.\"\n",
    "print(get_most_frequent_word(text_example))\n"
   ]
  },
  {
   "cell_type": "code",
   "execution_count": null,
   "metadata": {},
   "outputs": [
    {
     "name": "stdout",
     "output_type": "stream",
     "text": [
      "1 2 3\n"
     ]
    }
   ],
   "source": [
    "t=(1,2,3)\n",
    "print(*t)\n",
    "#print(list(t).append(1))\n",
    "#[1,2,3]+4\n"
   ]
  },
  {
   "cell_type": "code",
   "execution_count": null,
   "metadata": {},
   "outputs": [
    {
     "name": "stdout",
     "output_type": "stream",
     "text": [
      "[['Amanda', 37, 78, 67, 182], ['Patricia', 78, 93, 68, 239], ['Marcos', 79, 67, 89, 235], ['Dmitry', 67, 68, 100, 235], ['Andrey', 100, 78, 76, 254], ['Victoria', 93, 69, 96, 258]]\n",
      "[]\n",
      "[]\n"
     ]
    }
   ],
   "source": [
    "def get_total_score(data):\n",
    "    dm=map(lambda x: list(x)+[sum(x[1:])], data)\n",
    "    print(list(dm))\n",
    "    dm=map(lambda x: x.append(1), dm)\n",
    "    print(list(dm))\n",
    "    return list(dm)\n",
    "\n",
    "data = [\n",
    "    ('Amanda', 37, 78, 67),\n",
    "    ('Patricia', 78, 93, 68),\n",
    "    ('Marcos', 79, 67, 89),\n",
    "    ('Dmitry', 67, 68, 100),\n",
    "    ('Andrey', 100, 78, 76),\n",
    "    ('Victoria', 93, 69, 96),\n",
    "]\n",
    "\n",
    "print(get_total_score(data))\n",
    "# [('Amanda', 37, 78, 67, 182), ('Marcos', 79, 67, 89, 235), ('Dmitry', 67, 68, 100, 235), ('Patricia', 78, 93, 68, 239), ('Andrey', 100, 78, 76, 254), ('Victoria', 93, 69, 96, 258)]\n"
   ]
  },
  {
   "cell_type": "code",
   "execution_count": null,
   "metadata": {},
   "outputs": [
    {
     "data": {
      "text/plain": [
       "(1, 2, 3, 5)"
      ]
     },
     "execution_count": 155,
     "metadata": {},
     "output_type": "execute_result"
    }
   ],
   "source": [
    "t=(1,2,3)\n",
    "t1=(*t, 5)\n",
    "t1\n"
   ]
  },
  {
   "cell_type": "code",
   "execution_count": null,
   "metadata": {},
   "outputs": [
    {
     "name": "stdout",
     "output_type": "stream",
     "text": [
      "1\n",
      "2\n"
     ]
    }
   ],
   "source": [
    "d={1:'a', 2:'b'}\n",
    "for i in d:\n",
    "    print(i)\n"
   ]
  },
  {
   "cell_type": "code",
   "execution_count": null,
   "metadata": {},
   "outputs": [],
   "source": [
    "def find_video(data):\n",
    "    l=[]\n",
    "    print('DATA=',data)\n",
    "    for i in data:\n",
    "        print('   i=',i,  type(i))#,type(data[i]))\n",
    "        if (type(i) is str and type(data[i]) is not str):# or type(i) is not str:\n",
    "            print('     1!=str', 'data[i]=',data[i], 'l=',l)\n",
    "            l+=find_video(data[i])\n",
    "        elif type(i) is not str:\n",
    "            print('     2!=str', 'l=',l)\n",
    "            l+=find_video(i)\n",
    "        elif i == 'videoID':\n",
    "            print('     yes', 'data[i]', data[i], 'l=',l)\n",
    "            l.append(data[i])\n",
    "        print('STACK l=',l)\n",
    "    return l\n",
    "data = {\n",
    "    \"type\": \"video\",\n",
    "    \"videoID\": \"vid001\",\n",
    "    \"links\": [\n",
    "        {\"type\":\"video\", \"videoID\":\"vid002\", \"links\":[]},\n",
    "        {   \"type\":\"video\",\n",
    "            \"videoID\":\"vid003\",\n",
    "            \"links\": [\n",
    "            {\"type\": \"video\", \"videoID\":\"vid004\"},\n",
    "            {\"type\": \"video\", \"videoID\":\"vid005\"},\n",
    "            ]\n",
    "        },\n",
    "        {\"type\":\"video\", \"videoID\":\"vid006\"},\n",
    "        {   \"type\":\"video\",\n",
    "            \"videoID\":\"vid007\",\n",
    "            \"links\": [\n",
    "            {\"type\":\"video\", \"videoID\":\"vid008\", \"links\": [\n",
    "                {   \"type\":\"video\",\n",
    "                    \"videoID\":\"vid009\",\n",
    "                    \"links\": [{\"type\":\"video\", \"videoID\":\"vid010\"}]\n",
    "                }\n",
    "            ]}\n",
    "        ]},\n",
    "    ]\n",
    "}\n"
   ]
  },
  {
   "cell_type": "code",
   "execution_count": null,
   "metadata": {},
   "outputs": [
    {
     "name": "stdout",
     "output_type": "stream",
     "text": [
      "DATA= {'type': 'video', 'videoID': 'vid001', 'links': [{'type': 'video', 'videoID': 'vid002', 'links': []}, {'type': 'video', 'videoID': 'vid003', 'links': [{'type': 'video', 'videoID': 'vid004'}, {'type': 'video', 'videoID': 'vid005'}]}, {'type': 'video', 'videoID': 'vid006'}, {'type': 'video', 'videoID': 'vid007', 'links': [{'type': 'video', 'videoID': 'vid008', 'links': [{'type': 'video', 'videoID': 'vid009', 'links': [{'type': 'video', 'videoID': 'vid010'}]}]}]}]}\n",
      "   i= type <class 'str'>\n",
      "STACK l= []\n",
      "   i= videoID <class 'str'>\n",
      "     yes data[i] vid001 l= []\n",
      "STACK l= ['vid001']\n",
      "   i= links <class 'str'>\n",
      "     1!=str data[i]= [{'type': 'video', 'videoID': 'vid002', 'links': []}, {'type': 'video', 'videoID': 'vid003', 'links': [{'type': 'video', 'videoID': 'vid004'}, {'type': 'video', 'videoID': 'vid005'}]}, {'type': 'video', 'videoID': 'vid006'}, {'type': 'video', 'videoID': 'vid007', 'links': [{'type': 'video', 'videoID': 'vid008', 'links': [{'type': 'video', 'videoID': 'vid009', 'links': [{'type': 'video', 'videoID': 'vid010'}]}]}]}] l= ['vid001']\n",
      "DATA= [{'type': 'video', 'videoID': 'vid002', 'links': []}, {'type': 'video', 'videoID': 'vid003', 'links': [{'type': 'video', 'videoID': 'vid004'}, {'type': 'video', 'videoID': 'vid005'}]}, {'type': 'video', 'videoID': 'vid006'}, {'type': 'video', 'videoID': 'vid007', 'links': [{'type': 'video', 'videoID': 'vid008', 'links': [{'type': 'video', 'videoID': 'vid009', 'links': [{'type': 'video', 'videoID': 'vid010'}]}]}]}]\n",
      "   i= {'type': 'video', 'videoID': 'vid002', 'links': []} <class 'dict'>\n",
      "     2!=str l= []\n",
      "DATA= {'type': 'video', 'videoID': 'vid002', 'links': []}\n",
      "   i= type <class 'str'>\n",
      "STACK l= []\n",
      "   i= videoID <class 'str'>\n",
      "     yes data[i] vid002 l= []\n",
      "STACK l= ['vid002']\n",
      "   i= links <class 'str'>\n",
      "     1!=str data[i]= [] l= ['vid002']\n",
      "DATA= []\n",
      "STACK l= ['vid002']\n",
      "STACK l= ['vid002']\n",
      "   i= {'type': 'video', 'videoID': 'vid003', 'links': [{'type': 'video', 'videoID': 'vid004'}, {'type': 'video', 'videoID': 'vid005'}]} <class 'dict'>\n",
      "     2!=str l= ['vid002']\n",
      "DATA= {'type': 'video', 'videoID': 'vid003', 'links': [{'type': 'video', 'videoID': 'vid004'}, {'type': 'video', 'videoID': 'vid005'}]}\n",
      "   i= type <class 'str'>\n",
      "STACK l= []\n",
      "   i= videoID <class 'str'>\n",
      "     yes data[i] vid003 l= []\n",
      "STACK l= ['vid003']\n",
      "   i= links <class 'str'>\n",
      "     1!=str data[i]= [{'type': 'video', 'videoID': 'vid004'}, {'type': 'video', 'videoID': 'vid005'}] l= ['vid003']\n",
      "DATA= [{'type': 'video', 'videoID': 'vid004'}, {'type': 'video', 'videoID': 'vid005'}]\n",
      "   i= {'type': 'video', 'videoID': 'vid004'} <class 'dict'>\n",
      "     2!=str l= []\n",
      "DATA= {'type': 'video', 'videoID': 'vid004'}\n",
      "   i= type <class 'str'>\n",
      "STACK l= []\n",
      "   i= videoID <class 'str'>\n",
      "     yes data[i] vid004 l= []\n",
      "STACK l= ['vid004']\n",
      "STACK l= ['vid004']\n",
      "   i= {'type': 'video', 'videoID': 'vid005'} <class 'dict'>\n",
      "     2!=str l= ['vid004']\n",
      "DATA= {'type': 'video', 'videoID': 'vid005'}\n",
      "   i= type <class 'str'>\n",
      "STACK l= []\n",
      "   i= videoID <class 'str'>\n",
      "     yes data[i] vid005 l= []\n",
      "STACK l= ['vid005']\n",
      "STACK l= ['vid004', 'vid005']\n",
      "STACK l= ['vid003', 'vid004', 'vid005']\n",
      "STACK l= ['vid002', 'vid003', 'vid004', 'vid005']\n",
      "   i= {'type': 'video', 'videoID': 'vid006'} <class 'dict'>\n",
      "     2!=str l= ['vid002', 'vid003', 'vid004', 'vid005']\n",
      "DATA= {'type': 'video', 'videoID': 'vid006'}\n",
      "   i= type <class 'str'>\n",
      "STACK l= []\n",
      "   i= videoID <class 'str'>\n",
      "     yes data[i] vid006 l= []\n",
      "STACK l= ['vid006']\n",
      "STACK l= ['vid002', 'vid003', 'vid004', 'vid005', 'vid006']\n",
      "   i= {'type': 'video', 'videoID': 'vid007', 'links': [{'type': 'video', 'videoID': 'vid008', 'links': [{'type': 'video', 'videoID': 'vid009', 'links': [{'type': 'video', 'videoID': 'vid010'}]}]}]} <class 'dict'>\n",
      "     2!=str l= ['vid002', 'vid003', 'vid004', 'vid005', 'vid006']\n",
      "DATA= {'type': 'video', 'videoID': 'vid007', 'links': [{'type': 'video', 'videoID': 'vid008', 'links': [{'type': 'video', 'videoID': 'vid009', 'links': [{'type': 'video', 'videoID': 'vid010'}]}]}]}\n",
      "   i= type <class 'str'>\n",
      "STACK l= []\n",
      "   i= videoID <class 'str'>\n",
      "     yes data[i] vid007 l= []\n",
      "STACK l= ['vid007']\n",
      "   i= links <class 'str'>\n",
      "     1!=str data[i]= [{'type': 'video', 'videoID': 'vid008', 'links': [{'type': 'video', 'videoID': 'vid009', 'links': [{'type': 'video', 'videoID': 'vid010'}]}]}] l= ['vid007']\n",
      "DATA= [{'type': 'video', 'videoID': 'vid008', 'links': [{'type': 'video', 'videoID': 'vid009', 'links': [{'type': 'video', 'videoID': 'vid010'}]}]}]\n",
      "   i= {'type': 'video', 'videoID': 'vid008', 'links': [{'type': 'video', 'videoID': 'vid009', 'links': [{'type': 'video', 'videoID': 'vid010'}]}]} <class 'dict'>\n",
      "     2!=str l= []\n",
      "DATA= {'type': 'video', 'videoID': 'vid008', 'links': [{'type': 'video', 'videoID': 'vid009', 'links': [{'type': 'video', 'videoID': 'vid010'}]}]}\n",
      "   i= type <class 'str'>\n",
      "STACK l= []\n",
      "   i= videoID <class 'str'>\n",
      "     yes data[i] vid008 l= []\n",
      "STACK l= ['vid008']\n",
      "   i= links <class 'str'>\n",
      "     1!=str data[i]= [{'type': 'video', 'videoID': 'vid009', 'links': [{'type': 'video', 'videoID': 'vid010'}]}] l= ['vid008']\n",
      "DATA= [{'type': 'video', 'videoID': 'vid009', 'links': [{'type': 'video', 'videoID': 'vid010'}]}]\n",
      "   i= {'type': 'video', 'videoID': 'vid009', 'links': [{'type': 'video', 'videoID': 'vid010'}]} <class 'dict'>\n",
      "     2!=str l= []\n",
      "DATA= {'type': 'video', 'videoID': 'vid009', 'links': [{'type': 'video', 'videoID': 'vid010'}]}\n",
      "   i= type <class 'str'>\n",
      "STACK l= []\n",
      "   i= videoID <class 'str'>\n",
      "     yes data[i] vid009 l= []\n",
      "STACK l= ['vid009']\n",
      "   i= links <class 'str'>\n",
      "     1!=str data[i]= [{'type': 'video', 'videoID': 'vid010'}] l= ['vid009']\n",
      "DATA= [{'type': 'video', 'videoID': 'vid010'}]\n",
      "   i= {'type': 'video', 'videoID': 'vid010'} <class 'dict'>\n",
      "     2!=str l= []\n",
      "DATA= {'type': 'video', 'videoID': 'vid010'}\n",
      "   i= type <class 'str'>\n",
      "STACK l= []\n",
      "   i= videoID <class 'str'>\n",
      "     yes data[i] vid010 l= []\n",
      "STACK l= ['vid010']\n",
      "STACK l= ['vid010']\n",
      "STACK l= ['vid009', 'vid010']\n",
      "STACK l= ['vid009', 'vid010']\n",
      "STACK l= ['vid008', 'vid009', 'vid010']\n",
      "STACK l= ['vid008', 'vid009', 'vid010']\n",
      "STACK l= ['vid007', 'vid008', 'vid009', 'vid010']\n",
      "STACK l= ['vid002', 'vid003', 'vid004', 'vid005', 'vid006', 'vid007', 'vid008', 'vid009', 'vid010']\n",
      "STACK l= ['vid001', 'vid002', 'vid003', 'vid004', 'vid005', 'vid006', 'vid007', 'vid008', 'vid009', 'vid010']\n",
      "!!!!! ['vid001', 'vid002', 'vid003', 'vid004', 'vid005', 'vid006', 'vid007', 'vid008', 'vid009', 'vid010']\n"
     ]
    }
   ],
   "source": [
    "print('!!!!!', find_video(data = {'type': 'video', 'videoID': 'vid001', 'links': [{'type': 'video', 'videoID': 'vid002', 'links': []}, {'type': 'video', 'videoID': 'vid003', 'links': [{'type': 'video', 'videoID': 'vid004'}, {'type': 'video', 'videoID': 'vid005'}]}, {'type': 'video', 'videoID': 'vid006'}, {'type': 'video', 'videoID': 'vid007', 'links': [{'type': 'video', 'videoID': 'vid008', 'links': [{'type': 'video', 'videoID': 'vid009', 'links': [{'type': 'video', 'videoID': 'vid010'}]}]}]}]}))\n"
   ]
  },
  {
   "cell_type": "code",
   "execution_count": null,
   "metadata": {},
   "outputs": [],
   "source": [
    "ch = {\n",
    "    'чеддер': [370, 5000, 33, 'твердый'],\n",
    "    'пармезан': [510, 4000, 29, 'твердый'],\n",
    "    'гауда': [250, 3700, 27, 'полутвердый'],\n",
    "    'эдам': [220, 10000, 30, 'полутвердый'],\n",
    "    'горгонзола': [320, 3000, 32, 'полумягкий'],\n",
    "    'рокфор': [340, 15000, 31, 'полумягкий'],\n",
    "    'стилтон': [360, 7000, 35, 'полумягкий'],\n",
    "    'камамбер': [250, 8000, 24, 'мягкий'],\n",
    "    'бри': [310, 6500, 28, 'мягкий'],\n",
    "}\n"
   ]
  },
  {
   "cell_type": "code",
   "execution_count": null,
   "metadata": {},
   "outputs": [],
   "source": [
    "m = map(lambda x: ch[x][2], ch)\n"
   ]
  },
  {
   "cell_type": "code",
   "execution_count": null,
   "metadata": {},
   "outputs": [
    {
     "data": {
      "text/plain": [
       "[33, 29, 27, 30, 32, 31, 35, 24, 28]"
      ]
     },
     "execution_count": 284,
     "metadata": {},
     "output_type": "execute_result"
    }
   ],
   "source": [
    "list(m)\n"
   ]
  },
  {
   "cell_type": "code",
   "execution_count": null,
   "metadata": {},
   "outputs": [
    {
     "data": {
      "text/plain": [
       "[('чеддер', [370, 5000, 33, 'твердый']),\n",
       " ('пармезан', [510, 4000, 29, 'твердый']),\n",
       " ('гауда', [250, 3700, 27, 'полутвердый']),\n",
       " ('эдам', [220, 10000, 30, 'полутвердый']),\n",
       " ('горгонзола', [320, 3000, 32, 'полумягкий']),\n",
       " ('рокфор', [340, 15000, 31, 'полумягкий']),\n",
       " ('стилтон', [360, 7000, 35, 'полумягкий']),\n",
       " ('камамбер', [250, 8000, 24, 'мягкий']),\n",
       " ('бри', [310, 6500, 28, 'мягкий'])]"
      ]
     },
     "execution_count": 259,
     "metadata": {},
     "output_type": "execute_result"
    }
   ],
   "source": [
    "ll=list(ch.items())\n",
    "ll\n"
   ]
  },
  {
   "cell_type": "code",
   "execution_count": null,
   "metadata": {},
   "outputs": [
    {
     "data": {
      "text/plain": [
       "{'чеддер': [370, 5000, 33, 'твердый'],\n",
       " 'пармезан': [510, 4000, 29, 'твердый'],\n",
       " 'гауда': [250, 3700, 27, 'полутвердый'],\n",
       " 'эдам': [220, 10000, 30, 'полутвердый'],\n",
       " 'горгонзола': [320, 3000, 32, 'полумягкий'],\n",
       " 'рокфор': [340, 15000, 31, 'полумягкий'],\n",
       " 'стилтон': [360, 7000, 35, 'полумягкий'],\n",
       " 'камамбер': [250, 8000, 24, 'мягкий'],\n",
       " 'бри': [310, 6500, 28, 'мягкий']}"
      ]
     },
     "execution_count": 269,
     "metadata": {},
     "output_type": "execute_result"
    }
   ],
   "source": [
    "dict(ll)\n"
   ]
  },
  {
   "cell_type": "code",
   "execution_count": null,
   "metadata": {},
   "outputs": [],
   "source": [
    "n=30\n",
    "l=filter(lambda x: x[1][2]<n, ch.items())\n"
   ]
  },
  {
   "cell_type": "code",
   "execution_count": null,
   "metadata": {},
   "outputs": [
    {
     "data": {
      "text/plain": [
       "{}"
      ]
     },
     "execution_count": 272,
     "metadata": {},
     "output_type": "execute_result"
    }
   ],
   "source": [
    "dict(list(l))\n"
   ]
  },
  {
   "cell_type": "code",
   "execution_count": null,
   "metadata": {},
   "outputs": [
    {
     "ename": "KeyError",
     "evalue": "('пармезан', 'гауда', 'камамбер', 'бри')",
     "output_type": "error",
     "traceback": [
      "\u001b[0;31m---------------------------------------------------------------------------\u001b[0m",
      "\u001b[0;31mKeyError\u001b[0m                                  Traceback (most recent call last)",
      "Input \u001b[0;32mIn [245]\u001b[0m, in \u001b[0;36m<cell line: 1>\u001b[0;34m()\u001b[0m\n\u001b[0;32m----> 1\u001b[0m \u001b[43mch\u001b[49m\u001b[43m[\u001b[49m\u001b[38;5;124;43m'\u001b[39;49m\u001b[38;5;124;43mпармезан\u001b[39;49m\u001b[38;5;124;43m'\u001b[39;49m\u001b[43m,\u001b[49m\u001b[43m \u001b[49m\u001b[38;5;124;43m'\u001b[39;49m\u001b[38;5;124;43mгауда\u001b[39;49m\u001b[38;5;124;43m'\u001b[39;49m\u001b[43m,\u001b[49m\u001b[43m \u001b[49m\u001b[38;5;124;43m'\u001b[39;49m\u001b[38;5;124;43mкамамбер\u001b[39;49m\u001b[38;5;124;43m'\u001b[39;49m\u001b[43m,\u001b[49m\u001b[43m \u001b[49m\u001b[38;5;124;43m'\u001b[39;49m\u001b[38;5;124;43mбри\u001b[39;49m\u001b[38;5;124;43m'\u001b[39;49m\u001b[43m]\u001b[49m\n",
      "\u001b[0;31mKeyError\u001b[0m: ('пармезан', 'гауда', 'камамбер', 'бри')"
     ]
    }
   ],
   "source": [
    "ch['пармезан', 'гауда', 'камамбер', 'бри']\n"
   ]
  },
  {
   "cell_type": "code",
   "execution_count": null,
   "metadata": {},
   "outputs": [
    {
     "data": {
      "text/plain": [
       "('чеддер',\n",
       " 'пармезан',\n",
       " 'гауда',\n",
       " 'эдам',\n",
       " 'горгонзола',\n",
       " 'рокфор',\n",
       " 'стилтон',\n",
       " 'камамбер',\n",
       " 'бри')"
      ]
     },
     "execution_count": 247,
     "metadata": {},
     "output_type": "execute_result"
    }
   ],
   "source": [
    "tuple(ch)\n"
   ]
  },
  {
   "cell_type": "code",
   "execution_count": null,
   "metadata": {},
   "outputs": [
    {
     "name": "stdout",
     "output_type": "stream",
     "text": [
      "1\n",
      "{'пармезан': [510, 4000, 29, 'твердый'], 'гауда': [250, 3700, 27, 'полутвердый'], 'камамбер': [250, 8000, 24, 'мягкий'], 'бри': [310, 6500, 28, 'мягкий']}\n"
     ]
    }
   ],
   "source": [
    "def filter_by_fat(cheese_data, n):\n",
    "     #l=filter(lambda x: cheese_data[x][2]<n, cheese_data)\n",
    "    l=filter(lambda x: x[1][2]<n, list(cheese_data.items()))\n",
    "    print('1')\n",
    "    return dict(list(l))\n",
    "\n",
    "print(filter_by_fat(cheese_data, n=30))\n",
    "# {'пармезан': 29, 'гауда': 27, 'камамбер': 24, 'бри': 28}\n"
   ]
  },
  {
   "cell_type": "code",
   "execution_count": null,
   "metadata": {},
   "outputs": [],
   "source": [
    "def filter_by_fat(cheese_data, n):\n",
    "    #l=filter(lambda x: cheese_data[x][2]<n, cheese_data)\n",
    "   \n",
    "    l=filter(lambda x: x[1][2]<n, list(cheese_data.items()))\n",
    "    m=map(lambda x:l[x][2] ,l)\n",
    "    return dict(list(m))\n",
    "\n",
    "#{'чеддер': [370, 5000, 33, 'твердый'], 'пармезан': [510, 4000, 29, 'твердый'], 'гауда': [250, 3700, 27, 'полутвердый'], 'эдам': [220, 10000, 30, 'полутвердый'], 'горгонзола': [320, 3000, 32, 'полумягкий'], 'рокфор': [340, 15000, 31, 'полумягкий'], 'стилтон': [360, 7000, 35, 'полумягкий'], 'камамбер': [250, 8000, 24, 'мягкий'], 'бри': [310, 6500, 28, 'мягкий']}\n",
    "n = 30\n",
    "#print(filter_by_fat({'чеддер': [370, 5000, 33, 'твердый'], 'пармезан': [510, 4000, 29, 'твердый'], 'гауда': [250, 3700, 27, 'полутвердый'], 'эдам': [220, 10000, 30, 'полутвердый'], 'горгонзола': [320, 3000, 32, 'полумягкий'], 'рокфор': [340, 15000, 31, 'полумягкий'], 'стилтон': [360, 7000, 35, 'полумягкий'], 'камамбер': [250, 8000, 24, 'мягкий'], 'бри': [310, 6500, 28, 'мягкий']}, n \n",
    "d={'чеддер': [370, 5000, 33, 'твердый'], 'пармезан': [510, 4000, 29, 'твердый'], 'гауда': [250, 3700, 27, 'полутвердый'], 'эдам': [220, 10000, 30, 'полутвердый'], 'горгонзола': [320, 3000, 32, 'полумягкий'], 'рокфор': [340, 15000, 31, 'полумягкий'], 'стилтон': [360, 7000, 35, 'полумягкий'], 'камамбер': [250, 8000, 24, 'мягкий']}#, 'бри': [310, 6500, 28, 'мягкий']},\n",
    "n = 30\n"
   ]
  },
  {
   "cell_type": "code",
   "execution_count": null,
   "metadata": {},
   "outputs": [],
   "source": [
    "l=filter(lambda x: x[1][2]<n, list(d.items()))\n"
   ]
  },
  {
   "cell_type": "code",
   "execution_count": null,
   "metadata": {},
   "outputs": [],
   "source": [
    "m=map(lambda x:l[x][2] ,list(l))\n"
   ]
  },
  {
   "cell_type": "code",
   "execution_count": null,
   "metadata": {},
   "outputs": [
    {
     "name": "stdout",
     "output_type": "stream",
     "text": [
      "[]\n"
     ]
    }
   ],
   "source": [
    "print(list(m))\n"
   ]
  },
  {
   "cell_type": "code",
   "execution_count": null,
   "metadata": {},
   "outputs": [
    {
     "name": "stdout",
     "output_type": "stream",
     "text": [
      "[('пармезан', [510, 4000, 29, 'твердый']), ('гауда', [250, 3700, 27, 'полутвердый']), ('камамбер', [250, 8000, 24, 'мягкий'])]\n"
     ]
    }
   ],
   "source": [
    "print(list(l))\n"
   ]
  },
  {
   "cell_type": "code",
   "execution_count": null,
   "metadata": {},
   "outputs": [
    {
     "data": {
      "text/plain": [
       "{}"
      ]
     },
     "execution_count": 314,
     "metadata": {},
     "output_type": "execute_result"
    }
   ],
   "source": [
    "qq=list(l)\n",
    "dd=dict(qq)\n",
    "dd\n"
   ]
  },
  {
   "cell_type": "code",
   "execution_count": null,
   "metadata": {},
   "outputs": [],
   "source": [
    "f=filter(lambda x: d[x][2]<n, d)\n",
    "#list(f)\n"
   ]
  },
  {
   "cell_type": "code",
   "execution_count": null,
   "metadata": {},
   "outputs": [],
   "source": [
    "for i in list(f):\n",
    "    dd[i]=d[i][2]\n"
   ]
  },
  {
   "cell_type": "code",
   "execution_count": null,
   "metadata": {},
   "outputs": [
    {
     "data": {
      "text/plain": [
       "{'пармезан': 29, 'гауда': 27, 'камамбер': 24}"
      ]
     },
     "execution_count": 322,
     "metadata": {},
     "output_type": "execute_result"
    }
   ],
   "source": [
    "dd\n"
   ]
  },
  {
   "cell_type": "code",
   "execution_count": null,
   "metadata": {},
   "outputs": [
    {
     "data": {
      "text/plain": [
       "[]"
      ]
     },
     "execution_count": 3,
     "metadata": {},
     "output_type": "execute_result"
    }
   ],
   "source": [
    "def find_cheese_type(cheese_data,cheese_type):\n",
    "    f=filter(lambda x: cheese_data[x]==cheese_type, cheese_data)\n",
    "    return list(f)\n",
    "    \n",
    "cheese_data = {\n",
    "    'чеддер': [370, 5000, 33, 'твердый'],\n",
    "    'пармезан': [510, 4000, 29, 'твердый'],\n",
    "    'гауда': [250, 3700, 27, 'полутвердый'],\n",
    "    'эдам': [220, 10000, 30, 'полутвердый'],\n",
    "    'горгонзола': [320, 3000, 32, 'полумягкий'],\n",
    "    'рокфор': [340, 15000, 31, 'полумягкий'],\n",
    "    'стилтон': [360, 7000, 35, 'полумягкий'],\n",
    "    'камамбер': [250, 8000, 24, 'мягкий'],\n",
    "    'бри': [310, 6500, 28, 'мягкий'],\n",
    "}\n",
    "cheese_type = 'мягкий'\n",
    "find_cheese_type(cheese_data, cheese_type='мягкий')\n",
    "# ['камамбер', 'бри']\n"
   ]
  },
  {
   "cell_type": "code",
   "execution_count": null,
   "metadata": {},
   "outputs": [
    {
     "data": {
      "text/plain": [
       "['пармезан',\n",
       " 'гауда',\n",
       " 'камамбер',\n",
       " 'эдам',\n",
       " 'чеддер',\n",
       " 'горгонзола',\n",
       " 'рокфор',\n",
       " 'бри',\n",
       " 'стилтон']"
      ]
     },
     "execution_count": 6,
     "metadata": {},
     "output_type": "execute_result"
    }
   ],
   "source": [
    "sorted(cheese_data, key=lambda x: x[1][0])\n"
   ]
  },
  {
   "cell_type": "code",
   "execution_count": null,
   "metadata": {},
   "outputs": [
    {
     "data": {
      "text/plain": [
       "['эдам',\n",
       " 'гауда',\n",
       " 'камамбер',\n",
       " 'бри',\n",
       " 'горгонзола',\n",
       " 'рокфор',\n",
       " 'стилтон',\n",
       " 'чеддер',\n",
       " 'пармезан']"
      ]
     },
     "execution_count": 11,
     "metadata": {},
     "output_type": "execute_result"
    }
   ],
   "source": [
    "s=sorted(cheese_data.items(), key=lambda x: x[1][0])\n",
    "list(dict(s).keys())\n"
   ]
  },
  {
   "cell_type": "code",
   "execution_count": null,
   "metadata": {},
   "outputs": [
    {
     "data": {
      "text/plain": [
       "[('эдам', [220, 10000, 30, 'полутвердый']),\n",
       " ('гауда', [250, 3700, 27, 'полутвердый']),\n",
       " ('камамбер', [250, 8000, 24, 'мягкий']),\n",
       " ('бри', [310, 6500, 28, 'мягкий']),\n",
       " ('горгонзола', [320, 3000, 32, 'полумягкий']),\n",
       " ('рокфор', [340, 15000, 31, 'полумягкий']),\n",
       " ('стилтон', [360, 7000, 35, 'полумягкий']),\n",
       " ('чеддер', [370, 5000, 33, 'твердый']),\n",
       " ('пармезан', [510, 4000, 29, 'твердый'])]"
      ]
     },
     "execution_count": 12,
     "metadata": {},
     "output_type": "execute_result"
    }
   ],
   "source": [
    "s\n"
   ]
  },
  {
   "cell_type": "code",
   "execution_count": null,
   "metadata": {},
   "outputs": [
    {
     "ename": "ValueError",
     "evalue": "dictionary update sequence element #0 has length 8; 2 is required",
     "output_type": "error",
     "traceback": [
      "\u001b[0;31m---------------------------------------------------------------------------\u001b[0m",
      "\u001b[0;31mValueError\u001b[0m                                Traceback (most recent call last)",
      "Input \u001b[0;32mIn [353]\u001b[0m, in \u001b[0;36m<cell line: 3>\u001b[0;34m()\u001b[0m\n\u001b[1;32m      1\u001b[0m f\u001b[38;5;241m=\u001b[39m\u001b[38;5;28mfilter\u001b[39m(\u001b[38;5;28;01mlambda\u001b[39;00m x: cheese_data[x][\u001b[38;5;241m3\u001b[39m]\u001b[38;5;241m==\u001b[39mcheese_type, cheese_data)\n\u001b[1;32m      2\u001b[0m \u001b[38;5;66;03m#l=list(f)\u001b[39;00m\n\u001b[0;32m----> 3\u001b[0m d\u001b[38;5;241m=\u001b[39m\u001b[38;5;28;43mdict\u001b[39;49m\u001b[43m(\u001b[49m\u001b[43mf\u001b[49m\u001b[43m)\u001b[49m\n\u001b[1;32m      4\u001b[0m d\n",
      "\u001b[0;31mValueError\u001b[0m: dictionary update sequence element #0 has length 8; 2 is required"
     ]
    }
   ],
   "source": [
    "f=filter(lambda x: cheese_data[x][3]==cheese_type, cheese_data)\n",
    "#l=list(f)\n",
    "d=dict(f)\n",
    "d\n"
   ]
  },
  {
   "cell_type": "code",
   "execution_count": null,
   "metadata": {},
   "outputs": [
    {
     "data": {
      "text/plain": [
       "{'камамбер': [250, 8000, 24, 'мягкий'], 'бри': [310, 6500, 28, 'мягкий']}"
      ]
     },
     "execution_count": 356,
     "metadata": {},
     "output_type": "execute_result"
    }
   ],
   "source": [
    "cheese_type = 'мягкий'\n",
    "f=filter(lambda x: x[1][3]==cheese_type, cheese_data.items())\n",
    "l=dict(f)\n",
    "l\n"
   ]
  },
  {
   "cell_type": "code",
   "execution_count": null,
   "metadata": {},
   "outputs": [
    {
     "data": {
      "text/plain": [
       "{'камамбер': [250, 8000, 24, 'мягкий'], 'бри': [310, 6500, 28, 'мягкий']}"
      ]
     },
     "execution_count": 339,
     "metadata": {},
     "output_type": "execute_result"
    }
   ],
   "source": [
    "dict(l)\n"
   ]
  },
  {
   "cell_type": "code",
   "execution_count": null,
   "metadata": {},
   "outputs": [
    {
     "data": {
      "text/plain": [
       "{'чеддер': [370, 5000, 33, 'твердый'],\n",
       " 'пармезан': [510, 4000, 29, 'твердый'],\n",
       " 'гауда': [250, 3700, 27, 'полутвердый'],\n",
       " 'эдам': [220, 10000, 30, 'полутвердый'],\n",
       " 'горгонзола': [320, 3000, 32, 'полумягкий'],\n",
       " 'рокфор': [340, 15000, 31, 'полумягкий'],\n",
       " 'стилтон': [360, 7000, 35, 'полумягкий'],\n",
       " 'камамбер': [250, 8000, 24, 'мягкий'],\n",
       " 'бри': [310, 6500, 28, 'мягкий']}"
      ]
     },
     "execution_count": 343,
     "metadata": {},
     "output_type": "execute_result"
    }
   ],
   "source": [
    "di=cheese_data.items()\n",
    "dict(di)\n"
   ]
  },
  {
   "cell_type": "code",
   "execution_count": null,
   "metadata": {},
   "outputs": [
    {
     "data": {
      "text/plain": [
       "[('чеддер', [370, 5000, 33, 'твердый']),\n",
       " ('пармезан', [510, 4000, 29, 'твердый']),\n",
       " ('гауда', [250, 3700, 27, 'полутвердый']),\n",
       " ('эдам', [220, 10000, 30, 'полутвердый']),\n",
       " ('горгонзола', [320, 3000, 32, 'полумягкий']),\n",
       " ('рокфор', [340, 15000, 31, 'полумягкий']),\n",
       " ('стилтон', [360, 7000, 35, 'полумягкий']),\n",
       " ('камамбер', [250, 8000, 24, 'мягкий']),\n",
       " ('бри', [310, 6500, 28, 'мягкий'])]"
      ]
     },
     "execution_count": 344,
     "metadata": {},
     "output_type": "execute_result"
    }
   ],
   "source": [
    "list(di)\n"
   ]
  },
  {
   "cell_type": "code",
   "execution_count": null,
   "metadata": {},
   "outputs": [
    {
     "data": {
      "text/plain": [
       "[('чеддер', [370, 5000, 33, 'твердый']),\n",
       " ('пармезан', [510, 4000, 29, 'твердый']),\n",
       " ('гауда', [250, 3700, 27, 'полутвердый']),\n",
       " ('эдам', [220, 10000, 30, 'полутвердый']),\n",
       " ('горгонзола', [320, 3000, 32, 'полумягкий']),\n",
       " ('рокфор', [340, 15000, 31, 'полумягкий']),\n",
       " ('стилтон', [360, 7000, 35, 'полумягкий']),\n",
       " ('камамбер', [250, 8000, 24, 'мягкий']),\n",
       " ('бри', [310, 6500, 28, 'мягкий'])]"
      ]
     },
     "execution_count": 331,
     "metadata": {},
     "output_type": "execute_result"
    }
   ],
   "source": [
    "list(cheese_data.items())\n"
   ]
  },
  {
   "cell_type": "code",
   "execution_count": null,
   "metadata": {},
   "outputs": [
    {
     "data": {
      "text/plain": [
       "{'чеддер': [370, 5000, 33, 'твердый'],\n",
       " 'пармезан': [510, 4000, 29, 'твердый'],\n",
       " 'гауда': [250, 3700, 27, 'полутвердый'],\n",
       " 'эдам': [220, 10000, 30, 'полутвердый'],\n",
       " 'горгонзола': [320, 3000, 32, 'полумягкий'],\n",
       " 'рокфор': [340, 15000, 31, 'полумягкий'],\n",
       " 'стилтон': [360, 7000, 35, 'полумягкий'],\n",
       " 'камамбер': [250, 8000, 24, 'мягкий'],\n",
       " 'бри': [310, 6500, 28, 'мягкий']}"
      ]
     },
     "execution_count": 14,
     "metadata": {},
     "output_type": "execute_result"
    }
   ],
   "source": [
    "dict(cheese_data.items())\n"
   ]
  },
  {
   "cell_type": "code",
   "execution_count": null,
   "metadata": {},
   "outputs": [
    {
     "data": {
      "text/plain": [
       "{'аннато',\n",
       " 'ароматизатор',\n",
       " 'бактерии',\n",
       " 'грибки',\n",
       " 'дрожжи',\n",
       " 'закваска',\n",
       " 'калий',\n",
       " 'кальций',\n",
       " 'каротин',\n",
       " 'кислота лимонная',\n",
       " 'кислота молочная',\n",
       " 'кислота уксусная',\n",
       " 'молоко',\n",
       " 'пряность',\n",
       " 'сливки',\n",
       " 'соль',\n",
       " 'специя',\n",
       " 'фермент'}"
      ]
     },
     "execution_count": 18,
     "metadata": {},
     "output_type": "execute_result"
    }
   ],
   "source": [
    "ingredients = ['молоко', 'молоко', 'бактерии', 'молоко', 'сливки', 'фермент', 'закваска', 'молоко', 'соль', 'молоко', 'бактерии', 'молоко', 'кислота лимонная', 'грибки', 'соль', 'дрожжи', 'кислота уксусная', 'кальций', 'калий', 'каротин', 'аннато', 'специя', 'пряность', 'ароматизатор', 'соль', 'кислота молочная']\n",
    "set(ingredients)\n"
   ]
  },
  {
   "cell_type": "code",
   "execution_count": null,
   "metadata": {},
   "outputs": [],
   "source": [
    "input_string1 = input('Введите 1-ую последовательность идентификаторов: ')\n",
    "input_string2 = input('Введите 2-ую последовательность идентификаторов: ')\n"
   ]
  },
  {
   "cell_type": "code",
   "execution_count": null,
   "metadata": {},
   "outputs": [
    {
     "data": {
      "text/plain": [
       "'1, 2, 3, 4'"
      ]
     },
     "execution_count": 59,
     "metadata": {},
     "output_type": "execute_result"
    }
   ],
   "source": [
    "input_string1\n"
   ]
  },
  {
   "cell_type": "code",
   "execution_count": null,
   "metadata": {},
   "outputs": [
    {
     "name": "stdout",
     "output_type": "stream",
     "text": [
      "['1', '2', '3', '4']\n",
      "['1', '3', '6', '8']\n"
     ]
    }
   ],
   "source": [
    "ins1=input_string1.split(', ')\n",
    "ins2=input_string2.split(', ')\n",
    "print(ins1, '\\n', ins2, sep='')\n"
   ]
  },
  {
   "cell_type": "code",
   "execution_count": null,
   "metadata": {},
   "outputs": [
    {
     "data": {
      "text/plain": [
       "[1, 3]"
      ]
     },
     "execution_count": 61,
     "metadata": {},
     "output_type": "execute_result"
    }
   ],
   "source": [
    "si=set(ins1).intersection(set(ins2))\n",
    "si\n",
    "list(si)\n"
   ]
  },
  {
   "cell_type": "code",
   "execution_count": null,
   "metadata": {},
   "outputs": [
    {
     "data": {
      "text/plain": [
       "set"
      ]
     },
     "execution_count": 62,
     "metadata": {},
     "output_type": "execute_result"
    }
   ],
   "source": [
    "type(si)\n"
   ]
  },
  {
   "cell_type": "code",
   "execution_count": null,
   "metadata": {},
   "outputs": [],
   "source": [
    "ins1=input_string1.split(', ')\n",
    "ins2=input_string2.split(', ')\n",
    "try:\n",
    "    ins1=[int(x) for x in ins1]\n",
    "    ins2=[int(x) for x in ins2]\n",
    "except:\n",
    "    print('Некорректный ввод')\n"
   ]
  },
  {
   "cell_type": "code",
   "execution_count": null,
   "metadata": {},
   "outputs": [
    {
     "name": "stdout",
     "output_type": "stream",
     "text": [
      "[1, 2, 3, 4]\n",
      "[1, 3, 6, 8]\n"
     ]
    }
   ],
   "source": [
    "print(ins1, '\\n', ins2, sep='')\n"
   ]
  },
  {
   "cell_type": "code",
   "execution_count": null,
   "metadata": {},
   "outputs": [
    {
     "ename": "AttributeError",
     "evalue": "'list' object has no attribute 'intersection'",
     "output_type": "error",
     "traceback": [
      "\u001b[0;31m---------------------------------------------------------------------------\u001b[0m",
      "\u001b[0;31mAttributeError\u001b[0m                            Traceback (most recent call last)",
      "Input \u001b[0;32mIn [58]\u001b[0m, in \u001b[0;36m<cell line: 1>\u001b[0;34m()\u001b[0m\n\u001b[0;32m----> 1\u001b[0m \u001b[43mins1\u001b[49m\u001b[38;5;241;43m.\u001b[39;49m\u001b[43mintersection\u001b[49m(ins2)\n",
      "\u001b[0;31mAttributeError\u001b[0m: 'list' object has no attribute 'intersection'"
     ]
    }
   ],
   "source": [
    "ins1.intersection(ins2)\n"
   ]
  },
  {
   "cell_type": "code",
   "execution_count": null,
   "metadata": {},
   "outputs": [
    {
     "ename": "ValueError",
     "evalue": "invalid literal for int() with base 10: 'пять'",
     "output_type": "error",
     "traceback": [
      "\u001b[0;31m---------------------------------------------------------------------------\u001b[0m",
      "\u001b[0;31mValueError\u001b[0m                                Traceback (most recent call last)",
      "Input \u001b[0;32mIn [63]\u001b[0m, in \u001b[0;36m<cell line: 1>\u001b[0;34m()\u001b[0m\n\u001b[0;32m----> 1\u001b[0m \u001b[38;5;28;43mint\u001b[39;49m\u001b[43m(\u001b[49m\u001b[38;5;124;43m'\u001b[39;49m\u001b[38;5;124;43mпять\u001b[39;49m\u001b[38;5;124;43m'\u001b[39;49m\u001b[43m)\u001b[49m\n",
      "\u001b[0;31mValueError\u001b[0m: invalid literal for int() with base 10: 'пять'"
     ]
    }
   ],
   "source": [
    "int('пять')\n"
   ]
  },
  {
   "cell_type": "code",
   "execution_count": null,
   "metadata": {},
   "outputs": [
    {
     "name": "stdout",
     "output_type": "stream",
     "text": [
      "Minimum: -37.5 \n",
      "Maximum: 25.002\n"
     ]
    }
   ],
   "source": [
    "input_string = input('Введите последовательность чисел: ')\n",
    "# ваш код здесь\n",
    "# замены , на ю\n",
    "input_string = input_string.replace(',', '.')\n",
    "#разбитие строки по пробелу\n",
    "ins=input_string.split()\n",
    "# функция вывода минимума и максимума\n",
    "def find_min_max(l):\n",
    "  print(f'Minimum: {min(l)} \\nMaximum: {max(l)}')\n",
    "# фильтрация- удаляем буквенные элементы\n",
    "lf=filter(lambda x:  not x.isalpha(), ins)\n",
    "# преобразовываем строковый тип элементов в вещественный\n",
    "lm=map(lambda x : float(x), lf)\n",
    "find_min_max(list(lm))\n"
   ]
  },
  {
   "cell_type": "code",
   "execution_count": null,
   "metadata": {},
   "outputs": [
    {
     "data": {
      "text/plain": [
       "['-2.56', '25.002', 'восемь', '19.13', '13', '-37.5']"
      ]
     },
     "execution_count": 115,
     "metadata": {},
     "output_type": "execute_result"
    }
   ],
   "source": [
    "ins\n"
   ]
  },
  {
   "cell_type": "code",
   "execution_count": null,
   "metadata": {},
   "outputs": [],
   "source": [
    "lf=filter(lambda x:  not x.isalpha(), ins)\n"
   ]
  },
  {
   "cell_type": "code",
   "execution_count": null,
   "metadata": {},
   "outputs": [],
   "source": [
    "lm=map(lambda x : float(x), lf)\n"
   ]
  },
  {
   "cell_type": "code",
   "execution_count": null,
   "metadata": {},
   "outputs": [
    {
     "name": "stdout",
     "output_type": "stream",
     "text": [
      "Minimum:-37.5 \n",
      "Maximum: 25.002\n"
     ]
    }
   ],
   "source": [
    "find_min_max(list(lm))\n"
   ]
  },
  {
   "cell_type": "code",
   "execution_count": null,
   "metadata": {},
   "outputs": [
    {
     "data": {
      "text/plain": [
       "['-2.56', '25.002', 'восемь', '19.13', '13', '-37.5']"
      ]
     },
     "execution_count": 122,
     "metadata": {},
     "output_type": "execute_result"
    }
   ],
   "source": [
    "ins\n"
   ]
  },
  {
   "cell_type": "code",
   "execution_count": null,
   "metadata": {},
   "outputs": [],
   "source": [
    "\n",
    "lf=filter(lambda x: x.isalpha(), ins)\n"
   ]
  },
  {
   "cell_type": "code",
   "execution_count": null,
   "metadata": {},
   "outputs": [
    {
     "data": {
      "text/plain": [
       "False"
      ]
     },
     "execution_count": 124,
     "metadata": {},
     "output_type": "execute_result"
    }
   ],
   "source": [
    "lf is None\n"
   ]
  },
  {
   "cell_type": "code",
   "execution_count": null,
   "metadata": {},
   "outputs": [],
   "source": [
    "llf=list(lf)\n"
   ]
  },
  {
   "cell_type": "code",
   "execution_count": null,
   "metadata": {},
   "outputs": [
    {
     "ename": "SyntaxError",
     "evalue": "invalid syntax (2703990228.py, line 1)",
     "output_type": "error",
     "traceback": [
      "\u001b[0;36m  Input \u001b[0;32mIn [147]\u001b[0;36m\u001b[0m\n\u001b[0;31m    a=1 if (llf)\u001b[0m\n\u001b[0m                ^\u001b[0m\n\u001b[0;31mSyntaxError\u001b[0m\u001b[0;31m:\u001b[0m invalid syntax\n"
     ]
    }
   ],
   "source": [
    "a=1 if (llf)\n"
   ]
  },
  {
   "cell_type": "code",
   "execution_count": null,
   "metadata": {},
   "outputs": [
    {
     "data": {
      "text/plain": [
       "['восемь']"
      ]
     },
     "execution_count": 144,
     "metadata": {},
     "output_type": "execute_result"
    }
   ],
   "source": [
    "llf\n"
   ]
  },
  {
   "cell_type": "code",
   "execution_count": null,
   "metadata": {},
   "outputs": [],
   "source": [
    "llf=[]\n"
   ]
  },
  {
   "cell_type": "code",
   "execution_count": null,
   "metadata": {},
   "outputs": [],
   "source": [
    "if llf: print(1)\n"
   ]
  },
  {
   "cell_type": "code",
   "execution_count": null,
   "metadata": {},
   "outputs": [
    {
     "data": {
      "text/plain": [
       "'jkhjh\\njnkjnjkn\\n'"
      ]
     },
     "execution_count": 271,
     "metadata": {},
     "output_type": "execute_result"
    }
   ],
   "source": [
    "'''jkhjh\n",
    "jnkjnjkn\n",
    "'''\n"
   ]
  },
  {
   "cell_type": "code",
   "execution_count": null,
   "metadata": {},
   "outputs": [
    {
     "data": {
      "text/plain": [
       "'_summary_\\ncdsc\\nxcac\\n\\n'"
      ]
     },
     "execution_count": 272,
     "metadata": {},
     "output_type": "execute_result"
    }
   ],
   "source": [
    "    \"\"\"_summary_\n",
    "    cdsc\n",
    "    xcac\n",
    "    \n",
    "    \"\"\"\n"
   ]
  },
  {
   "cell_type": "code",
   "execution_count": null,
   "metadata": {},
   "outputs": [
    {
     "data": {
      "text/plain": [
       "['двес', 'дв', 'д']"
      ]
     },
     "execution_count": 296,
     "metadata": {},
     "output_type": "execute_result"
    }
   ],
   "source": [
    "words = 'двести сорок шесть'\n",
    "keys = list(number_word_dict.keys())\n",
    "\n",
    "filtered_key = list(filter(lambda key : words.startswith(key), keys))#[0]\n",
    "filtered_key\n"
   ]
  },
  {
   "cell_type": "code",
   "execution_count": null,
   "metadata": {},
   "outputs": [
    {
     "ename": "TypeError",
     "evalue": "unhashable type: 'list'",
     "output_type": "error",
     "traceback": [
      "\u001b[0;31m---------------------------------------------------------------------------\u001b[0m",
      "\u001b[0;31mTypeError\u001b[0m                                 Traceback (most recent call last)",
      "Input \u001b[0;32mIn [290]\u001b[0m, in \u001b[0;36m<cell line: 2>\u001b[0;34m()\u001b[0m\n\u001b[1;32m      1\u001b[0m l \u001b[38;5;241m=\u001b[39m [\u001b[38;5;124m'\u001b[39m\u001b[38;5;124mты\u001b[39m\u001b[38;5;124m'\u001b[39m, \u001b[38;5;124m'\u001b[39m\u001b[38;5;124mм\u001b[39m\u001b[38;5;124m'\u001b[39m]\n\u001b[0;32m----> 2\u001b[0m \u001b[43mnumber_word_dict\u001b[49m\u001b[43m[\u001b[49m\u001b[43ml\u001b[49m\u001b[43m]\u001b[49m\n",
      "\u001b[0;31mTypeError\u001b[0m: unhashable type: 'list'"
     ]
    }
   ],
   "source": [
    "l = ['ты', 'м']\n",
    "number_word_dict[l]\n"
   ]
  },
  {
   "cell_type": "code",
   "execution_count": null,
   "metadata": {},
   "outputs": [
    {
     "name": "stdout",
     "output_type": "stream",
     "text": [
      "TS= 700 sm= 0\n",
      "after sm= 700\n",
      "TS= 700 sm= 0\n",
      "after sm= 700\n",
      "TS= 80 sm= 0\n",
      "after sm= 80\n",
      "TS= 80 sm= 0\n",
      "after sm= 80\n",
      "TS= 80 sm= 0\n",
      "after sm= 80\n",
      "TS= 80 sm= 700\n",
      "after sm= 780\n",
      "TS= 3 sm= 0\n",
      "after sm= 3\n",
      "TS= 3 sm= 780\n",
      "after sm= 783\n",
      "TS= 1000 sm= 0\n",
      "after sm= 1000\n",
      "TS= 1000 sm= 0\n",
      "after sm= 1000\n",
      "TS= 1000 sm= 0\n",
      "after sm= 1000\n",
      "TS= 1000 sm= 783\n",
      "after sm= 783000\n",
      "TS= 900 sm= 0\n",
      "after sm= 900\n",
      "TS= 900 sm= 783000\n",
      "after sm= 783900\n",
      "TS= 19 sm= 0\n",
      "after sm= 19\n",
      "TS= 19 sm= 0\n",
      "after sm= 19\n",
      "TS= 19 sm= 0\n",
      "after sm= 19\n",
      "TS= 19 sm= 0\n",
      "after sm= 19\n",
      "TS= 19 sm= 0\n",
      "after sm= 19\n",
      "TS= 19 sm= 783900\n",
      "after sm= 783919\n"
     ]
    },
    {
     "data": {
      "text/plain": [
       "783919"
      ]
     },
     "execution_count": 289,
     "metadata": {},
     "output_type": "execute_result"
    }
   ],
   "source": [
    "#s = input('Введите число словами: ')\n",
    "\n",
    "\n",
    "s='семьсот восемьдесят три тысячи девятьсот девятнадцать'\n",
    "number_word_dict = {\n",
    "    \"ты\": 1000, \"м\": 1000000,\n",
    "    \"сто\": 100, \"двес\": 200, \"трис\": 300, \"четырес\": 400, \"пятьс\": 500, \"шестьс\": 600, \"семьс\": 700, \"восемьс\": 800, \"девятьс\": 900,\n",
    "    \"одинн\": 11, \"двен\": 12, \"трин\": 13, \"четырн\": 14, \"пятн\": 15, \"шестн\": 16, \"семн\": 17, \"восемн\": 18, \"девятн\": 19,\n",
    "    \"двад\": 20, \"трид\": 30, \"сор\": 40, \"пятьд\": 50, \"шестьд\": 60, \"семьд\": 70, \"восемьд\": 80, \"девяно\": 90,\n",
    "    \"дес\": 10, \"н\": 0, \"о\": 1, \"дв\": 2, \"т\": 3, \"ч\": 4, \"п\": 5, \"ш\": 6, \"с\": 7, \"в\": 8, \"д\": 9, }\n",
    "# ваш код здесь\n",
    "def transform_string_to_integer(s):\n",
    "    sl = s.split()\n",
    "    sm = 0\n",
    "    for w in sl:\n",
    "        if number_word_dict.get(w) is None:\n",
    "            ts=transform_string_to_integer(w[:-1])\n",
    "            print('TS=', ts, 'sm=',sm)\n",
    "            #s+=ts\n",
    "            if ts in [1000, 1000000]:\n",
    "                if sm==0: sm=1\n",
    "                sm *=ts\n",
    "            else:\n",
    "                sm += ts\n",
    "            print('after sm=', sm)\n",
    "        else:\n",
    "            return number_word_dict.get(w)\n",
    "            \n",
    "    return sm        \n",
    "    \n",
    "transform_string_to_integer(s)\n"
   ]
  },
  {
   "cell_type": "code",
   "execution_count": null,
   "metadata": {},
   "outputs": [
    {
     "data": {
      "text/plain": [
       "True"
      ]
     },
     "execution_count": 166,
     "metadata": {},
     "output_type": "execute_result"
    }
   ],
   "source": [
    "1000 in [1000,5]\n"
   ]
  },
  {
   "cell_type": "code",
   "execution_count": null,
   "metadata": {},
   "outputs": [
    {
     "name": "stdout",
     "output_type": "stream",
     "text": [
      "TS= 700 sm= 0\n",
      "after sm= 700\n",
      "TS= 700 sm= 0\n",
      "after sm= 700\n",
      "TS= 80 sm= 0\n",
      "after sm= 80\n",
      "TS= 80 sm= 0\n",
      "after sm= 80\n",
      "TS= 80 sm= 0\n",
      "after sm= 80\n",
      "TS= 80 sm= 0\n",
      "after sm= 80\n",
      "TS= 80 sm= 0\n",
      "after sm= 80\n",
      "TS= 80 sm= 0\n",
      "after sm= 80\n",
      "TS= 80 sm= 0\n",
      "after sm= 80\n",
      "TS= 80 sm= 700\n",
      "after sm= 780\n",
      "TS= 3 sm= 0\n",
      "after sm= 3\n",
      "TS= 3 sm= 780\n",
      "after sm= 783\n",
      "TS= 1000 sm= 0\n",
      "after sm= 1000\n",
      "TS= 1000 sm= 0\n",
      "after sm= 1000\n",
      "TS= 1000 sm= 0\n",
      "after sm= 1000\n",
      "TS= 1000 sm= 0\n",
      "after sm= 1000\n",
      "TS= 1000 sm= 0\n",
      "after sm= 1000\n",
      "TS= 1000 sm= 0\n",
      "after sm= 1000\n",
      "TS= 1000 sm= 0\n",
      "after sm= 1000\n",
      "TS= 1000 sm= 783\n",
      "after sm= 783000\n",
      "TS= 900 sm= 0\n",
      "after sm= 900\n",
      "TS= 900 sm= 783000\n",
      "after sm= 783900\n",
      "TS= 19 sm= 0\n",
      "after sm= 19\n",
      "TS= 19 sm= 0\n",
      "after sm= 19\n",
      "TS= 19 sm= 0\n",
      "after sm= 19\n",
      "TS= 19 sm= 0\n",
      "after sm= 19\n",
      "TS= 19 sm= 0\n",
      "after sm= 19\n",
      "TS= 19 sm= 0\n",
      "after sm= 19\n",
      "TS= 19 sm= 0\n",
      "after sm= 19\n",
      "TS= 19 sm= 0\n",
      "after sm= 19\n",
      "TS= 19 sm= 0\n",
      "after sm= 19\n",
      "TS= 19 sm= 0\n",
      "after sm= 19\n",
      "TS= 19 sm= 0\n",
      "after sm= 19\n",
      "TS= 19 sm= 0\n",
      "after sm= 19\n",
      "TS= 19 sm= 0\n",
      "after sm= 19\n",
      "TS= 19 sm= 0\n",
      "after sm= 19\n",
      "TS= 19 sm= 0\n",
      "after sm= 19\n",
      "TS= 19 sm= 0\n",
      "after sm= 19\n",
      "TS= 19 sm= 0\n",
      "after sm= 19\n",
      "TS= 19 sm= 0\n",
      "after sm= 19\n",
      "TS= 19 sm= 0\n",
      "after sm= 19\n",
      "TS= 19 sm= 0\n",
      "after sm= 19\n",
      "TS= 19 sm= 0\n",
      "after sm= 19\n",
      "TS= 19 sm= 0\n",
      "after sm= 19\n",
      "TS= 19 sm= 0\n",
      "after sm= 19\n",
      "TS= 19 sm= 0\n",
      "after sm= 19\n",
      "TS= 19 sm= 0\n",
      "after sm= 19\n",
      "TS= 19 sm= 0\n",
      "after sm= 19\n",
      "TS= 19 sm= 0\n",
      "after sm= 19\n",
      "TS= 19 sm= 0\n",
      "after sm= 19\n",
      "TS= 19 sm= 0\n",
      "after sm= 19\n",
      "TS= 19 sm= 0\n",
      "after sm= 19\n",
      "TS= 19 sm= 0\n",
      "after sm= 19\n",
      "TS= 19 sm= 783900\n",
      "after sm= 783919\n",
      "TS= 19 sm= 0\n",
      "after sm= 19\n",
      "TS= 19 sm= 0\n",
      "after sm= 19\n",
      "TS= 19 sm= 0\n",
      "after sm= 19\n",
      "TS= 19 sm= 0\n",
      "after sm= 19\n",
      "TS= 19 sm= 0\n",
      "after sm= 19\n",
      "TS= 19 sm= 0\n",
      "after sm= 19\n",
      "TS= 19 sm= 0\n",
      "after sm= 19\n",
      "TS= 19 sm= 0\n",
      "after sm= 19\n",
      "TS= 19 sm= 0\n",
      "after sm= 19\n",
      "TS= 19 sm= 0\n",
      "after sm= 19\n",
      "TS= 19 sm= 0\n",
      "after sm= 19\n",
      "TS= 19 sm= 0\n",
      "after sm= 19\n",
      "TS= 19 sm= 0\n",
      "after sm= 19\n",
      "TS= 19 sm= 0\n",
      "after sm= 19\n",
      "TS= 19 sm= 0\n",
      "after sm= 19\n",
      "TS= 19 sm= 0\n",
      "after sm= 19\n",
      "TS= 19 sm= 0\n",
      "after sm= 19\n",
      "TS= 19 sm= 0\n",
      "after sm= 19\n",
      "TS= 19 sm= 0\n",
      "after sm= 19\n",
      "TS= 19 sm= 0\n",
      "after sm= 19\n",
      "TS= 19 sm= 0\n",
      "after sm= 19\n",
      "TS= 19 sm= 0\n",
      "after sm= 19\n",
      "TS= 19 sm= 0\n",
      "after sm= 19\n",
      "TS= 19 sm= 0\n",
      "after sm= 19\n",
      "TS= 19 sm= 0\n",
      "after sm= 19\n",
      "TS= 19 sm= 0\n",
      "after sm= 19\n",
      "TS= 19 sm= 0\n",
      "after sm= 19\n",
      "TS= 19 sm= 0\n",
      "after sm= 19\n",
      "TS= 19 sm= 0\n",
      "after sm= 19\n",
      "TS= 19 sm= 0\n",
      "after sm= 19\n",
      "TS= 19 sm= 0\n",
      "after sm= 19\n"
     ]
    },
    {
     "data": {
      "text/plain": [
       "783919"
      ]
     },
     "execution_count": 198,
     "metadata": {},
     "output_type": "execute_result"
    }
   ],
   "source": [
    "def transform_string_to_integer(s):\n",
    "    sl = s.split()\n",
    "    sm = 0\n",
    "    for w in sl:\n",
    "        if number_word_dict.get(w) is None:\n",
    "            ts=transform_string_to_integer(w[:-1])\n",
    "            print('TS=', ts, 'sm=',sm)\n",
    "            #s+=ts\n",
    "            if ts in [1000, 1000000]:\n",
    "                if sm==0: sm=1\n",
    "                sm *=ts\n",
    "            else:\n",
    "                sm += ts\n",
    "            print('after sm=', sm)\n",
    "        else:\n",
    "            return number_word_dict.get(w)\n",
    "    ts=transform_string_to_integer(w[:-1])\n",
    "            \n",
    "    return sm        \n",
    "    \n",
    "transform_string_to_integer(s)\n"
   ]
  },
  {
   "cell_type": "code",
   "execution_count": null,
   "metadata": {},
   "outputs": [
    {
     "name": "stdout",
     "output_type": "stream",
     "text": [
      "5 != 120\n",
      "D 5!=2^3*3*5\n"
     ]
    }
   ],
   "source": [
    "n = input('Введите число: ')\n",
    "# ваш код здесь\n",
    "def decompose_factorial(n):\n",
    "    def fact(n):\n",
    "        #print('!=',n)\n",
    "        if n == 0 or n == 1:\n",
    "            return 1\n",
    "        return n*fact(n-1)\n",
    "\n",
    "    def ffactor(n):\n",
    "        Ans = []\n",
    "        d = 2\n",
    "        while d * d <= n:\n",
    "            if n % d == 0:\n",
    "                Ans.append(d)\n",
    "                n //= d\n",
    "            else:\n",
    "                d += 1\n",
    "        if n > 1:\n",
    "            Ans.append(n)\n",
    "        return Ans\n",
    "\n",
    "    nf=fact(n)\n",
    "    print(n, '!=', nf)\n",
    "    ff=ffactor(nf)\n",
    "    #s=str(n)+'!='\n",
    "    s=[]\n",
    "    for i in set(ff):\n",
    "        c=ff.count(i)\n",
    "        s.append(str(i)+('^'+str(c) if c>1 else ''))\n",
    "    \n",
    "    return str(n)+'!='+'*'.join(s)    \n",
    "n=int(n)\n",
    "#print(n)\n",
    "print('D',decompose_factorial(n))\n"
   ]
  },
  {
   "cell_type": "code",
   "execution_count": null,
   "metadata": {},
   "outputs": [
    {
     "data": {
      "text/plain": [
       "[3, 1, 2]"
      ]
     },
     "execution_count": 227,
     "metadata": {},
     "output_type": "execute_result"
    }
   ],
   "source": [
    "l=[3,3,1,2,3]\n",
    "l_1=l[::-1]\n",
    "l_1.remove(3)#.remove(3)\n",
    "l_1.remove(3)\n",
    "l_1[::-1]\n"
   ]
  },
  {
   "cell_type": "code",
   "execution_count": null,
   "metadata": {},
   "outputs": [
    {
     "data": {
      "text/plain": [
       "[2, 1, 3, 3]"
      ]
     },
     "execution_count": 226,
     "metadata": {},
     "output_type": "execute_result"
    }
   ],
   "source": [
    "l_1\n"
   ]
  },
  {
   "cell_type": "code",
   "execution_count": null,
   "metadata": {},
   "outputs": [
    {
     "name": "stdout",
     "output_type": "stream",
     "text": [
      "<class 'str'>\n"
     ]
    }
   ],
   "source": [
    "import string\n",
    "alphabet = string.ascii_lowercase\n",
    "print(type(alphabet))\n"
   ]
  },
  {
   "cell_type": "code",
   "execution_count": null,
   "metadata": {},
   "outputs": [
    {
     "data": {
      "text/plain": [
       "26"
      ]
     },
     "execution_count": 230,
     "metadata": {},
     "output_type": "execute_result"
    }
   ],
   "source": [
    "len(alphabet)\n"
   ]
  },
  {
   "cell_type": "code",
   "execution_count": null,
   "metadata": {},
   "outputs": [],
   "source": [
    "def replace_duplicates(s):\n",
    "    if len(s)==len(set(s)):\n",
    "        return s\n",
    "    s=list(s)\n",
    "    print(s)\n",
    "    s1=s[::-1]\n",
    "    st=set(s1)\n",
    "    for i in st:\n",
    "        if s.count(i)>1:\n",
    "            s1.remove(i)\n",
    "            s1.remove(i)\n",
    "            s=s1[::-1]\n",
    "            ind_al=alphabet.find(i)\n",
    "            ind=0 if ind_al==25 else ind_al+1\n",
    "            s.append(alphabet[ind])\n",
    "            s=replace_duplicates(s)\n",
    "            return s\n",
    "    #return s\n",
    "        "
   ]
  },
  {
   "cell_type": "code",
   "execution_count": null,
   "metadata": {},
   "outputs": [
    {
     "name": "stdout",
     "output_type": "stream",
     "text": [
      "['z', 'z', 'z', 'a', 'b']\n",
      "['z', 'a', 'b', 'a']\n",
      "['z', 'b', 'b']\n"
     ]
    },
    {
     "data": {
      "text/plain": [
       "['z', 'c']"
      ]
     },
     "execution_count": 267,
     "metadata": {},
     "output_type": "execute_result"
    }
   ],
   "source": [
    "replace_duplicates('zzzab')\n"
   ]
  },
  {
   "cell_type": "code",
   "execution_count": null,
   "metadata": {},
   "outputs": [
    {
     "data": {
      "text/plain": [
       "'a'"
      ]
     },
     "execution_count": 244,
     "metadata": {},
     "output_type": "execute_result"
    }
   ],
   "source": [
    "alphabet[0]\n"
   ]
  },
  {
   "cell_type": "code",
   "execution_count": null,
   "metadata": {},
   "outputs": [
    {
     "name": "stdout",
     "output_type": "stream",
     "text": [
      "The Zen of Python, by Tim Peters\n",
      "\n",
      "Beautiful is better than ugly.\n",
      "Explicit is better than implicit.\n",
      "Simple is better than complex.\n",
      "Complex is better than complicated.\n",
      "Flat is better than nested.\n",
      "Sparse is better than dense.\n",
      "Readability counts.\n",
      "Special cases aren't special enough to break the rules.\n",
      "Although practicality beats purity.\n",
      "Errors should never pass silently.\n",
      "Unless explicitly silenced.\n",
      "In the face of ambiguity, refuse the temptation to guess.\n",
      "There should be one-- and preferably only one --obvious way to do it.\n",
      "Although that way may not be obvious at first unless you're Dutch.\n",
      "Now is better than never.\n",
      "Although never is often better than *right* now.\n",
      "If the implementation is hard to explain, it's a bad idea.\n",
      "If the implementation is easy to explain, it may be a good idea.\n",
      "Namespaces are one honking great idea -- let's do more of those!\n"
     ]
    }
   ],
   "source": [
    "import this\n"
   ]
  },
  {
   "cell_type": "code",
   "execution_count": null,
   "metadata": {},
   "outputs": [],
   "source": [
    "'''Solve quadratic equation via the quadratic formula.\n",
    "\n",
    "    A quadratic equation has the following form:\n",
    "    ax**2 + bx + c = 0\n",
    "\n",
    "    There always two solutions to a quadratic equation: x_1 & x_2.\n",
    "\n",
    "a=5\n"
   ]
  },
  {
   "cell_type": "code",
   "execution_count": null,
   "metadata": {},
   "outputs": [
    {
     "data": {
      "text/plain": [
       "1"
      ]
     },
     "execution_count": 282,
     "metadata": {},
     "output_type": "execute_result"
    }
   ],
   "source": [
    "i=5\\\n",
    "%2\n",
    "i\n"
   ]
  },
  {
   "cell_type": "code",
   "execution_count": null,
   "metadata": {},
   "outputs": [
    {
     "ename": "SyntaxError",
     "evalue": "invalid syntax (2494918106.py, line 2)",
     "output_type": "error",
     "traceback": [
      "\u001b[0;36m  Input \u001b[0;32mIn [283]\u001b[0;36m\u001b[0m\n\u001b[0;31m    ost = Num%\u001b[0m\n\u001b[0m              ^\u001b[0m\n\u001b[0;31mSyntaxError\u001b[0m\u001b[0;31m:\u001b[0m invalid syntax\n"
     ]
    }
   ],
   "source": [
    "Num = float( input(\"Enter a number: \"))\n",
    "ost = Num%\n",
    "\n",
    "2\n",
    "if ost > 0:\n",
    "    \n",
    "    print(\"You picked an odd number.\")\n",
    "else:\n",
    "    print(\"You picked an even number.\")\n"
   ]
  },
  {
   "cell_type": "code",
   "execution_count": null,
   "metadata": {},
   "outputs": [],
   "source": [
    "list_of_numbers = [\n",
    "    1, 2, 3,\n",
    "    4, 5, 6,\n",
    "    7, 8, 9,\n",
    "    11, 12, 13\n",
    "]\n"
   ]
  },
  {
   "cell_type": "code",
   "execution_count": null,
   "metadata": {},
   "outputs": [],
   "source": [
    "def random_predict(number:int=1) -> int:\n",
    "    \"\"\"_summary_\n",
    "\n",
    "    Args:\n",
    "        number (int, optional): _description_. Defaults to 1.\n",
    "\n",
    "    Returns:\n",
    "        int: _description_\n",
    "    \"\"\"\n"
   ]
  },
  {
   "cell_type": "code",
   "execution_count": null,
   "metadata": {},
   "outputs": [
    {
     "ename": "SyntaxError",
     "evalue": "incomplete input (3415470967.py, line 1)",
     "output_type": "error",
     "traceback": [
      "\u001b[0;36m  Cell \u001b[0;32mIn[6], line 1\u001b[0;36m\u001b[0m\n\u001b[0;31m    def random_predict(number:int=1) -> int:\u001b[0m\n\u001b[0m                                            ^\u001b[0m\n\u001b[0;31mSyntaxError\u001b[0m\u001b[0;31m:\u001b[0m incomplete input\n"
     ]
    }
   ],
   "source": [
    "def random_predict(number:int=1) -> int:\n"
   ]
  },
  {
   "cell_type": "code",
   "execution_count": null,
   "metadata": {},
   "outputs": [],
   "source": [
    "import numpy as np\n",
    "\n",
    "def random_predict(number:int=1) -> int:\n",
    "    \"\"\"Рандомно угадываем число\n",
    "\n",
    "    Args:\n",
    "        number (int, optional): Загаданное число. Defaults to 1.\n",
    "\n",
    "    Returns:\n",
    "        int: Число попыток\n",
    "    \"\"\"\n",
    "\n",
    "    count = 0\n",
    "\n",
    "    while True:\n",
    "        count += 1\n",
    "        predict_number = np.random.randint(1, 500) # предполагаемое число\n",
    "        if number == predict_number:\n",
    "            break # выход из цикла, если угадали\n",
    "    return(count)\n",
    "\n",
    "print(f'Количество попыток: {random_predict()}')\n"
   ]
  },
  {
   "cell_type": "code",
   "execution_count": 13,
   "metadata": {},
   "outputs": [
    {
     "name": "stdout",
     "output_type": "stream",
     "text": [
      "Количество попыток: 132\n",
      "Ваш алгоритм угадывает число в среднем за: 483 попыток\n"
     ]
    },
    {
     "data": {
      "text/plain": [
       "483"
      ]
     },
     "execution_count": 13,
     "metadata": {},
     "output_type": "execute_result"
    }
   ],
   "source": [
    "import numpy as np\n",
    "\n",
    "def random_predict(number:int=1) -> int:\n",
    "    \"\"\"Рандомно угадываем число\n",
    "\n",
    "    Args:\n",
    "        number (int, optional): Загаданное число. Defaults to 1.\n",
    "\n",
    "    Returns:\n",
    "        int: Число попыток\n",
    "    \"\"\"\n",
    "\n",
    "    count = 0\n",
    "\n",
    "    while True:\n",
    "        count += 1\n",
    "        predict_number = np.random.randint(1, 500) # предполагаемое число\n",
    "        if number == predict_number:\n",
    "            break # выход из цикла, если угадали\n",
    "    return(count)\n",
    "\n",
    "print(f'Количество попыток: {random_predict()}')\n",
    "def score_game() -> int:\n",
    "    \"\"\"За какое количество попыток в среднем из 1000 подходов угадывает наш алгоритм\n",
    "\n",
    "    Args:\n",
    "        random_predict ([type]): функция угадывания\n",
    "\n",
    "    Returns:\n",
    "        int: среднее количество попыток\n",
    "    \"\"\"\n",
    "\n",
    "    count_ls = [] # список для сохранения количества попыток\n",
    "    np.random.seed(1) # фиксируем сид для воспроизводимости\n",
    "    random_array = np.random.randint(1, 101, size=(1000)) # загадали список чисел\n",
    "\n",
    "    for number in random_array:\n",
    "        count_ls.append(random_predict(number))\n",
    "\n",
    "    score = int(np.mean(count_ls)) # находим среднее количество попыток\n",
    "\n",
    "    print(f'Ваш алгоритм угадывает число в среднем за: {score} попыток')\n",
    "    return(score)\n",
    "\n",
    "# RUN\n",
    "score_game()\n"
   ]
  },
  {
   "cell_type": "code",
   "execution_count": 2,
   "metadata": {},
   "outputs": [],
   "source": [
    "import game\n"
   ]
  },
  {
   "cell_type": "code",
   "execution_count": 3,
   "metadata": {},
   "outputs": [
    {
     "name": "stdout",
     "output_type": "stream",
     "text": [
      "Ваш алгоритм угадывает число в среднем за: 484 попыток\n"
     ]
    },
    {
     "data": {
      "text/plain": [
       "484"
      ]
     },
     "execution_count": 3,
     "metadata": {},
     "output_type": "execute_result"
    }
   ],
   "source": [
    "game.score_game(game.random_predict)\n"
   ]
  },
  {
   "cell_type": "code",
   "execution_count": 13,
   "metadata": {},
   "outputs": [],
   "source": [
    "n = 10\n",
    "z = n\n",
    "n = 5\n"
   ]
  },
  {
   "cell_type": "markdown",
   "metadata": {},
   "source": [
    "# first\n",
    "## two"
   ]
  },
  {
   "cell_type": "code",
   "execution_count": 29,
   "metadata": {},
   "outputs": [
    {
     "data": {
      "application/json": {
       "cell": {
        "!": "OSMagics",
        "HTML": "Other",
        "SVG": "Other",
        "bash": "Other",
        "capture": "ExecutionMagics",
        "code_wrap": "ExecutionMagics",
        "debug": "ExecutionMagics",
        "file": "Other",
        "html": "DisplayMagics",
        "javascript": "DisplayMagics",
        "js": "DisplayMagics",
        "latex": "DisplayMagics",
        "markdown": "DisplayMagics",
        "perl": "Other",
        "prun": "ExecutionMagics",
        "pypy": "Other",
        "python": "Other",
        "python2": "Other",
        "python3": "Other",
        "ruby": "Other",
        "script": "ScriptMagics",
        "sh": "Other",
        "svg": "DisplayMagics",
        "sx": "OSMagics",
        "system": "OSMagics",
        "time": "ExecutionMagics",
        "timeit": "ExecutionMagics",
        "writefile": "OSMagics"
       },
       "line": {
        "alias": "OSMagics",
        "alias_magic": "BasicMagics",
        "autoawait": "AsyncMagics",
        "autocall": "AutoMagics",
        "automagic": "AutoMagics",
        "autosave": "KernelMagics",
        "bookmark": "OSMagics",
        "cat": "Other",
        "cd": "OSMagics",
        "clear": "KernelMagics",
        "code_wrap": "ExecutionMagics",
        "colors": "BasicMagics",
        "conda": "PackagingMagics",
        "config": "ConfigMagics",
        "connect_info": "KernelMagics",
        "cp": "Other",
        "debug": "ExecutionMagics",
        "dhist": "OSMagics",
        "dirs": "OSMagics",
        "doctest_mode": "BasicMagics",
        "ed": "Other",
        "edit": "KernelMagics",
        "env": "OSMagics",
        "gui": "BasicMagics",
        "hist": "Other",
        "history": "HistoryMagics",
        "killbgscripts": "ScriptMagics",
        "ldir": "Other",
        "less": "KernelMagics",
        "lf": "Other",
        "lk": "Other",
        "ll": "Other",
        "load": "CodeMagics",
        "load_ext": "ExtensionMagics",
        "loadpy": "CodeMagics",
        "logoff": "LoggingMagics",
        "logon": "LoggingMagics",
        "logstart": "LoggingMagics",
        "logstate": "LoggingMagics",
        "logstop": "LoggingMagics",
        "ls": "Other",
        "lsmagic": "BasicMagics",
        "lx": "Other",
        "macro": "ExecutionMagics",
        "magic": "BasicMagics",
        "mamba": "PackagingMagics",
        "man": "KernelMagics",
        "matplotlib": "PylabMagics",
        "micromamba": "PackagingMagics",
        "mkdir": "Other",
        "more": "KernelMagics",
        "mv": "Other",
        "notebook": "BasicMagics",
        "page": "BasicMagics",
        "pastebin": "CodeMagics",
        "pdb": "ExecutionMagics",
        "pdef": "NamespaceMagics",
        "pdoc": "NamespaceMagics",
        "pfile": "NamespaceMagics",
        "pinfo": "NamespaceMagics",
        "pinfo2": "NamespaceMagics",
        "pip": "PackagingMagics",
        "popd": "OSMagics",
        "pprint": "BasicMagics",
        "precision": "BasicMagics",
        "prun": "ExecutionMagics",
        "psearch": "NamespaceMagics",
        "psource": "NamespaceMagics",
        "pushd": "OSMagics",
        "pwd": "OSMagics",
        "pycat": "OSMagics",
        "pylab": "PylabMagics",
        "qtconsole": "KernelMagics",
        "quickref": "BasicMagics",
        "recall": "HistoryMagics",
        "rehashx": "OSMagics",
        "reload_ext": "ExtensionMagics",
        "rep": "Other",
        "rerun": "HistoryMagics",
        "reset": "NamespaceMagics",
        "reset_selective": "NamespaceMagics",
        "rm": "Other",
        "rmdir": "Other",
        "run": "ExecutionMagics",
        "save": "CodeMagics",
        "sc": "OSMagics",
        "set_env": "OSMagics",
        "store": "StoreMagics",
        "sx": "OSMagics",
        "system": "OSMagics",
        "tb": "ExecutionMagics",
        "time": "ExecutionMagics",
        "timeit": "ExecutionMagics",
        "unalias": "OSMagics",
        "unload_ext": "ExtensionMagics",
        "who": "NamespaceMagics",
        "who_ls": "NamespaceMagics",
        "whos": "NamespaceMagics",
        "xdel": "NamespaceMagics",
        "xmode": "BasicMagics"
       }
      },
      "text/plain": [
       "Available line magics:\n",
       "%alias  %alias_magic  %autoawait  %autocall  %automagic  %autosave  %bookmark  %cat  %cd  %clear  %code_wrap  %colors  %conda  %config  %connect_info  %cp  %debug  %dhist  %dirs  %doctest_mode  %ed  %edit  %env  %gui  %hist  %history  %killbgscripts  %ldir  %less  %lf  %lk  %ll  %load  %load_ext  %loadpy  %logoff  %logon  %logstart  %logstate  %logstop  %ls  %lsmagic  %lx  %macro  %magic  %mamba  %man  %matplotlib  %micromamba  %mkdir  %more  %mv  %notebook  %page  %pastebin  %pdb  %pdef  %pdoc  %pfile  %pinfo  %pinfo2  %pip  %popd  %pprint  %precision  %prun  %psearch  %psource  %pushd  %pwd  %pycat  %pylab  %qtconsole  %quickref  %recall  %rehashx  %reload_ext  %rep  %rerun  %reset  %reset_selective  %rm  %rmdir  %run  %save  %sc  %set_env  %store  %sx  %system  %tb  %time  %timeit  %unalias  %unload_ext  %who  %who_ls  %whos  %xdel  %xmode\n",
       "\n",
       "Available cell magics:\n",
       "%%!  %%HTML  %%SVG  %%bash  %%capture  %%code_wrap  %%debug  %%file  %%html  %%javascript  %%js  %%latex  %%markdown  %%perl  %%prun  %%pypy  %%python  %%python2  %%python3  %%ruby  %%script  %%sh  %%svg  %%sx  %%system  %%time  %%timeit  %%writefile\n",
       "\n",
       "Automagic is ON, % prefix IS NOT needed for line magics."
      ]
     },
     "execution_count": 29,
     "metadata": {},
     "output_type": "execute_result"
    }
   ],
   "source": [
    "%lsmagic\n"
   ]
  },
  {
   "cell_type": "code",
   "execution_count": 14,
   "metadata": {},
   "outputs": [
    {
     "name": "stdout",
     "output_type": "stream",
     "text": [
      "d\t game\t n\t z\t \n"
     ]
    }
   ],
   "source": [
    "%who\n"
   ]
  },
  {
   "cell_type": "code",
   "execution_count": 17,
   "metadata": {},
   "outputs": [
    {
     "name": "stdout",
     "output_type": "stream",
     "text": [
      "\u001b[0;31mType:\u001b[0m        int\n",
      "\u001b[0;31mString form:\u001b[0m 5\n",
      "\u001b[0;31mDocstring:\u001b[0m  \n",
      "int([x]) -> integer\n",
      "int(x, base=10) -> integer\n",
      "\n",
      "Convert a number or string to an integer, or return 0 if no arguments\n",
      "are given.  If x is a number, return x.__int__().  For floating point\n",
      "numbers, this truncates towards zero.\n",
      "\n",
      "If x is not a number or if base is given, then x must be a string,\n",
      "bytes, or bytearray instance representing an integer literal in the\n",
      "given base.  The literal can be preceded by '+' or '-' and be surrounded\n",
      "by whitespace.  The base defaults to 10.  Valid bases are 0 and 2-36.\n",
      "Base 0 means to interpret the base from the string as an integer literal.\n",
      ">>> int('0b100', base=0)\n",
      "4"
     ]
    }
   ],
   "source": [
    "%pinfo n\n"
   ]
  },
  {
   "cell_type": "code",
   "execution_count": 18,
   "metadata": {},
   "outputs": [
    {
     "name": "stdout",
     "output_type": "stream",
     "text": [
      "import game\n",
      "import game\n",
      "game.score_game(game.random_predict)\n",
      "n = 10\n",
      "z = n\n",
      "n = 5\n",
      "d=dict(Tom=12, Jerry=1, Jane=2)\n",
      "d\n",
      "%ls\n",
      "%wd\n",
      "%pwd\n",
      "%lsmagic\n",
      "%lsmagic\n",
      "%who\n",
      "n = 10\n",
      "z = n\n",
      "n = 5\n",
      "n = 10\n",
      "z = n\n",
      "n = 5\n",
      "%who\n",
      "%pinfo a\n",
      "%pinfo d\n",
      "%pinfo n\n",
      "%hist\n"
     ]
    }
   ],
   "source": [
    "%hist\n"
   ]
  },
  {
   "cell_type": "code",
   "execution_count": 19,
   "metadata": {},
   "outputs": [
    {
     "name": "stdout",
     "output_type": "stream",
     "text": [
      "/home/elena\n"
     ]
    },
    {
     "name": "stderr",
     "output_type": "stream",
     "text": [
      "/home/elena/.local/lib/python3.10/site-packages/IPython/core/magics/osm.py:393: UserWarning: using bookmarks requires you to install the `pickleshare` library.\n",
      "  bkms = self.shell.db.get('bookmarks', {})\n",
      "/home/elena/.local/lib/python3.10/site-packages/IPython/core/magics/osm.py:428: UserWarning: using dhist requires you to install the `pickleshare` library.\n",
      "  self.shell.db['dhist'] = compress_dhist(dhist)[-100:]\n"
     ]
    }
   ],
   "source": [
    "%cd\n"
   ]
  },
  {
   "cell_type": "code",
   "execution_count": 33,
   "metadata": {},
   "outputs": [
    {
     "data": {
      "text/plain": [
       "'__main__'"
      ]
     },
     "execution_count": 33,
     "metadata": {},
     "output_type": "execute_result"
    }
   ],
   "source": [
    "__name__\n",
    "#123\n",
    "\n"
   ]
  },
  {
   "cell_type": "code",
   "execution_count": 35,
   "metadata": {},
   "outputs": [],
   "source": [
    "import this\n"
   ]
  }
 ],
 "metadata": {
  "kernelspec": {
   "display_name": "base",
   "language": "python",
   "name": "python3"
  },
  "language_info": {
   "codemirror_mode": {
    "name": "ipython",
    "version": 3
   },
   "file_extension": ".py",
   "mimetype": "text/x-python",
   "name": "python",
   "nbconvert_exporter": "python",
   "pygments_lexer": "ipython3",
   "version": "3.10.12"
  }
 },
 "nbformat": 4,
 "nbformat_minor": 2
}
